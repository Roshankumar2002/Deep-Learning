{
  "nbformat": 4,
  "nbformat_minor": 0,
  "metadata": {
    "colab": {
      "provenance": []
    },
    "kernelspec": {
      "name": "python3",
      "display_name": "Python 3"
    },
    "language_info": {
      "name": "python"
    }
  },
  "cells": [
    {
      "cell_type": "code",
      "execution_count": null,
      "metadata": {
        "id": "JBihs6jghQmZ"
      },
      "outputs": [],
      "source": [
        "# This is a comment"
      ]
    },
    {
      "cell_type": "code",
      "source": [
        "#variable assignement\n",
        "x=10\n",
        "print(x)"
      ],
      "metadata": {
        "colab": {
          "base_uri": "https://localhost:8080/"
        },
        "id": "QhH68qDZhVUL",
        "outputId": "e46a19e8-a0d6-44cc-b46b-e66529937f76"
      },
      "execution_count": null,
      "outputs": [
        {
          "output_type": "stream",
          "name": "stdout",
          "text": [
            "10\n"
          ]
        }
      ]
    },
    {
      "cell_type": "code",
      "source": [
        "x=20\n",
        "print(\"value of x is =\",x)"
      ],
      "metadata": {
        "colab": {
          "base_uri": "https://localhost:8080/"
        },
        "id": "gZbbtsvohkhU",
        "outputId": "60c1af1f-9deb-4c80-bc3b-73b8bec0442d"
      },
      "execution_count": null,
      "outputs": [
        {
          "output_type": "stream",
          "name": "stdout",
          "text": [
            "value of x is = 20\n"
          ]
        }
      ]
    },
    {
      "cell_type": "code",
      "source": [
        "#Multivalue assignement\n",
        "x=y=z=50\n",
        "print(x)\n",
        "print(y)\n",
        "print(z)"
      ],
      "metadata": {
        "colab": {
          "base_uri": "https://localhost:8080/"
        },
        "id": "qpmvpC7Ohpqo",
        "outputId": "a4ee9a2f-4f82-4216-a859-9ba78cf7328f"
      },
      "execution_count": null,
      "outputs": [
        {
          "output_type": "stream",
          "name": "stdout",
          "text": [
            "50\n",
            "50\n",
            "50\n"
          ]
        }
      ]
    },
    {
      "cell_type": "code",
      "source": [
        "#Multiple assignment\n",
        "a,b,c=5,1,2\n",
        "print(a)\n",
        "print(b)\n",
        "print(c)"
      ],
      "metadata": {
        "colab": {
          "base_uri": "https://localhost:8080/"
        },
        "id": "gEE7wXobh826",
        "outputId": "10a964f8-e004-4215-a46b-20e813a2fd52"
      },
      "execution_count": null,
      "outputs": [
        {
          "output_type": "stream",
          "name": "stdout",
          "text": [
            "5\n",
            "1\n",
            "2\n"
          ]
        }
      ]
    },
    {
      "cell_type": "code",
      "source": [
        "A=10\n",
        "B='hii its me'\n",
        "c=10.5\n",
        "\n",
        "print(type(A))\n",
        "print(type(B))\n",
        "print(type(c))"
      ],
      "metadata": {
        "colab": {
          "base_uri": "https://localhost:8080/"
        },
        "id": "OnukwXc5ilG8",
        "outputId": "08c1ed81-cab4-4b72-a001-da59903ce568"
      },
      "execution_count": null,
      "outputs": [
        {
          "output_type": "stream",
          "name": "stdout",
          "text": [
            "<class 'int'>\n",
            "<class 'str'>\n",
            "<class 'float'>\n"
          ]
        }
      ]
    },
    {
      "cell_type": "code",
      "source": [
        "#finding the address\n",
        "x=10\n",
        "y=5.8\n",
        "print(id(x))\n",
        "print(id(y))"
      ],
      "metadata": {
        "colab": {
          "base_uri": "https://localhost:8080/"
        },
        "id": "mBX5-_UniMeA",
        "outputId": "edcf4c27-0de7-411a-bf45-2ce9b84b217c"
      },
      "execution_count": null,
      "outputs": [
        {
          "output_type": "stream",
          "name": "stdout",
          "text": [
            "135858271011344\n",
            "135857839897904\n"
          ]
        }
      ]
    },
    {
      "cell_type": "code",
      "source": [
        "a='hello'\n",
        "b='hello'\n",
        "print(id(a))\n",
        "print(id(b))"
      ],
      "metadata": {
        "colab": {
          "base_uri": "https://localhost:8080/"
        },
        "id": "5hEzYFuGijVL",
        "outputId": "6beaa9cf-f75c-499b-9fec-4b0b2dfdd060"
      },
      "execution_count": null,
      "outputs": [
        {
          "output_type": "stream",
          "name": "stdout",
          "text": [
            "135857843658800\n",
            "135857843658800\n"
          ]
        }
      ]
    },
    {
      "cell_type": "code",
      "source": [
        "x=10\n",
        "y=10\n",
        "print(id(x))\n",
        "print(id(y))\n",
        "x=x+1\n",
        "z=10\n",
        "print(id(x))\n",
        "print(id(y))\n",
        "print(id(z))"
      ],
      "metadata": {
        "colab": {
          "base_uri": "https://localhost:8080/"
        },
        "id": "oG5v-CPxj8pM",
        "outputId": "ddcb3493-43ec-45b8-9886-0ba2c956c819"
      },
      "execution_count": null,
      "outputs": [
        {
          "output_type": "stream",
          "name": "stdout",
          "text": [
            "135858271011344\n",
            "135858271011344\n",
            "135858271011376\n",
            "135858271011344\n",
            "135858271011344\n"
          ]
        }
      ]
    },
    {
      "cell_type": "code",
      "source": [
        "#Forcefully Interning\n",
        "import sys\n",
        "x=sys.intern(\"learning\")\n",
        "y=sys.intern(\"learning\")\n",
        "print(\"address of x\",id(x))\n",
        "print(\"address of y\",id(y))"
      ],
      "metadata": {
        "colab": {
          "base_uri": "https://localhost:8080/"
        },
        "id": "iqsLVlYckRA2",
        "outputId": "bff5ba2e-f175-47b2-a1ee-f4d6b2fd0e48"
      },
      "execution_count": null,
      "outputs": [
        {
          "output_type": "stream",
          "name": "stdout",
          "text": [
            "address of x 135857356902512\n",
            "address of y 135857356902512\n"
          ]
        }
      ]
    },
    {
      "cell_type": "code",
      "source": [
        "a=8\n",
        "print(a)\n",
        "print(type(a))"
      ],
      "metadata": {
        "colab": {
          "base_uri": "https://localhost:8080/"
        },
        "id": "8Me-8isTkSYy",
        "outputId": "248581bd-83bb-46b9-eb62-8100ae341554"
      },
      "execution_count": null,
      "outputs": [
        {
          "output_type": "stream",
          "name": "stdout",
          "text": [
            "8\n",
            "<class 'int'>\n"
          ]
        }
      ]
    },
    {
      "cell_type": "code",
      "source": [
        "a=8.1\n",
        "print(a)\n",
        "print(type(a))"
      ],
      "metadata": {
        "colab": {
          "base_uri": "https://localhost:8080/"
        },
        "id": "A7LJjXRZkXrn",
        "outputId": "2673eb23-3a40-4b29-9607-05487270083b"
      },
      "execution_count": null,
      "outputs": [
        {
          "output_type": "stream",
          "name": "stdout",
          "text": [
            "8.1\n",
            "<class 'float'>\n"
          ]
        }
      ]
    },
    {
      "cell_type": "code",
      "source": [
        "a=8+2j\n",
        "print(a)\n",
        "print(type(a))"
      ],
      "metadata": {
        "colab": {
          "base_uri": "https://localhost:8080/"
        },
        "id": "__yXB2CWkbHl",
        "outputId": "459c49df-1f9f-4c7f-d68f-e1022255dcb0"
      },
      "execution_count": null,
      "outputs": [
        {
          "output_type": "stream",
          "name": "stdout",
          "text": [
            "(8+2j)\n",
            "<class 'complex'>\n"
          ]
        }
      ]
    },
    {
      "cell_type": "code",
      "source": [
        "a=True\n",
        "print(a)\n",
        "print(type(a))"
      ],
      "metadata": {
        "colab": {
          "base_uri": "https://localhost:8080/"
        },
        "id": "ypXH1oTIkcpa",
        "outputId": "8baa87c0-61d9-4a6b-d081-9f0d1681eac3"
      },
      "execution_count": null,
      "outputs": [
        {
          "output_type": "stream",
          "name": "stdout",
          "text": [
            "True\n",
            "<class 'bool'>\n"
          ]
        }
      ]
    },
    {
      "cell_type": "code",
      "source": [
        "a=8\n",
        "b=5\n",
        "print(a+b)  #addition\n",
        "print(a-b)  #subtraction\n",
        "print(a*b)    #multiplication\n",
        "print(a/b)     #division\n",
        "print(a%b)     #modulo division\n",
        "print(a**b)      #power"
      ],
      "metadata": {
        "colab": {
          "base_uri": "https://localhost:8080/"
        },
        "id": "A2C_bwPpkvju",
        "outputId": "f9834fbe-412d-49ca-981a-a0d473d2c521"
      },
      "execution_count": null,
      "outputs": [
        {
          "output_type": "stream",
          "name": "stdout",
          "text": [
            "13\n",
            "3\n",
            "40\n",
            "1.6\n",
            "3\n",
            "32768\n"
          ]
        }
      ]
    },
    {
      "cell_type": "code",
      "source": [
        "a = 32    # Initialize the value of a\n",
        "b = 6      # Initialize the value of b\n",
        "print('Addition of two numbers:',a+b)\n",
        "print('Subtraction of two numbers:',a-b)\n",
        "print('Multiplication of two numbers:',a*b)\n",
        "print('Division of two numbers:',a/b)\n",
        "print('Reminder of two numbers:',a%b)\n",
        "print('Exponent of two numbers:',a**b)\n",
        "print('Floor division of two numbers:',a//b)"
      ],
      "metadata": {
        "colab": {
          "base_uri": "https://localhost:8080/"
        },
        "id": "IAuoStP8kvuz",
        "outputId": "8b70b858-78de-41dd-88a7-b39b7ae4a46e"
      },
      "execution_count": null,
      "outputs": [
        {
          "output_type": "stream",
          "name": "stdout",
          "text": [
            "Addition of two numbers: 38\n",
            "Subtraction of two numbers: 26\n",
            "Multiplication of two numbers: 192\n",
            "Division of two numbers: 5.333333333333333\n",
            "Reminder of two numbers: 2\n",
            "Exponent of two numbers: 1073741824\n",
            "Floor division of two numbers: 5\n"
          ]
        }
      ]
    },
    {
      "cell_type": "code",
      "source": [
        "a = 32      # Initialize the value of a\n",
        "b = 6       # Initialize the value of b\n",
        "print('Two numbers are equal or not:',a==b)\n",
        "print('Two numbers are not equal or not:',a!=b)\n",
        "print('a is less than or equal to b:',a<=b)\n",
        "print('a is greater than or equal to b:',a>=b)\n",
        "print('a is greater b:',a>b)\n",
        "print('a is less than b:',a<b)"
      ],
      "metadata": {
        "colab": {
          "base_uri": "https://localhost:8080/"
        },
        "id": "iZ3in9nrkv3s",
        "outputId": "44ab4c86-5971-468a-99cc-a7605221f9e6"
      },
      "execution_count": null,
      "outputs": [
        {
          "output_type": "stream",
          "name": "stdout",
          "text": [
            "Two numbers are equal or not: False\n",
            "Two numbers are not equal or not: True\n",
            "a is less than or equal to b: False\n",
            "a is greater than or equal to b: True\n",
            "a is greater b: True\n",
            "a is less than b: False\n"
          ]
        }
      ]
    },
    {
      "cell_type": "code",
      "source": [
        "#assignement operator\n",
        "a = 32         # Initialize the value of a\n",
        "b = 6          # Initialize the value of b\n",
        "print('a=b:', a==b)\n",
        "print('a+=b:', a+b)\n",
        "print('a-=b:', a-b)\n",
        "print('a*=b:', a*b)\n",
        "print('a%=b:', a%b)\n",
        "print('a**=b:', a**b)\n",
        "print('a//=b:', a//b)"
      ],
      "metadata": {
        "colab": {
          "base_uri": "https://localhost:8080/"
        },
        "id": "DN9kbrIIkv_L",
        "outputId": "7e10558e-3526-403c-8f11-d36b6c73f659"
      },
      "execution_count": null,
      "outputs": [
        {
          "output_type": "stream",
          "name": "stdout",
          "text": [
            "a=b: False\n",
            "a+=b: 38\n",
            "a-=b: 26\n",
            "a*=b: 192\n",
            "a%=b: 2\n",
            "a**=b: 1073741824\n",
            "a//=b: 5\n"
          ]
        }
      ]
    },
    {
      "cell_type": "code",
      "source": [
        "#Logical operator\n",
        "a = 5          # initialize the value of a\n",
        "print('Is this statement true?:',a > 3 and a < 5)\n",
        "print('Any one statement is true?:',a > 3 or a < 5)\n",
        "print('Each statement is true then return False and vice-versa:',(not(a > 3 and a < 5)))"
      ],
      "metadata": {
        "colab": {
          "base_uri": "https://localhost:8080/"
        },
        "id": "nMc3nY5YkwHx",
        "outputId": "18afe1a2-617b-4a58-bccb-f26229e0b16a"
      },
      "execution_count": null,
      "outputs": [
        {
          "output_type": "stream",
          "name": "stdout",
          "text": [
            "Is this statement true?: False\n",
            "Any one statement is true?: True\n",
            "Each statement is true then return False and vice-versa: True\n"
          ]
        }
      ]
    },
    {
      "cell_type": "code",
      "source": [
        "#Identity operator\n",
        "x=5\n",
        "y=90\n",
        "print(x is y)\n",
        "print(x is not y)"
      ],
      "metadata": {
        "colab": {
          "base_uri": "https://localhost:8080/"
        },
        "id": "EvTbcYQTpANi",
        "outputId": "7c2ddc55-f81e-41f6-9734-c6d27fe90573"
      },
      "execution_count": null,
      "outputs": [
        {
          "output_type": "stream",
          "name": "stdout",
          "text": [
            "False\n",
            "True\n"
          ]
        }
      ]
    },
    {
      "cell_type": "code",
      "source": [
        "#Membership Operator\n",
        "x=\"hello\"\n",
        "print('e' in x)"
      ],
      "metadata": {
        "colab": {
          "base_uri": "https://localhost:8080/"
        },
        "id": "G2SOohnzpD-9",
        "outputId": "7a9bab21-03f1-47d2-ab0b-19b5dd8338d9"
      },
      "execution_count": null,
      "outputs": [
        {
          "output_type": "stream",
          "name": "stdout",
          "text": [
            "True\n"
          ]
        }
      ]
    },
    {
      "cell_type": "code",
      "source": [
        "#membership operator\n",
        "x = [\"Rose\", \"Lotus\"]\n",
        "print(' Is value Present?', \"Rose\" in x)\n",
        "print(' Is value not Present?', \"Riya\" not in x)"
      ],
      "metadata": {
        "colab": {
          "base_uri": "https://localhost:8080/"
        },
        "id": "urunEL-EkwUn",
        "outputId": "6698e4ba-6a54-4708-d81d-8bbeeb1856c7"
      },
      "execution_count": null,
      "outputs": [
        {
          "output_type": "stream",
          "name": "stdout",
          "text": [
            " Is value Present? True\n",
            " Is value not Present? True\n"
          ]
        }
      ]
    },
    {
      "cell_type": "code",
      "source": [
        "print(2**3*2)\n",
        "print(~2+3)"
      ],
      "metadata": {
        "colab": {
          "base_uri": "https://localhost:8080/"
        },
        "id": "cAM-37VupIuW",
        "outputId": "bc07befc-e49d-42f8-db70-f17a351c9afa"
      },
      "execution_count": null,
      "outputs": [
        {
          "output_type": "stream",
          "name": "stdout",
          "text": [
            "16\n",
            "0\n"
          ]
        }
      ]
    },
    {
      "cell_type": "code",
      "source": [
        "a=5\n",
        "b=6\n",
        "a,b=b,a\n",
        "print(b,a)"
      ],
      "metadata": {
        "colab": {
          "base_uri": "https://localhost:8080/"
        },
        "id": "Rg7CiiGXpK66",
        "outputId": "284666bf-223e-42ed-a118-84328d1034b5"
      },
      "execution_count": null,
      "outputs": [
        {
          "output_type": "stream",
          "name": "stdout",
          "text": [
            "5 6\n"
          ]
        }
      ]
    },
    {
      "cell_type": "code",
      "source": [
        "a=input(\"enter one number\")\n",
        "print(a)\n",
        "print(type(a))"
      ],
      "metadata": {
        "colab": {
          "base_uri": "https://localhost:8080/"
        },
        "id": "2cpyghWTqEew",
        "outputId": "029d88d8-83c8-4a7e-d265-1ec66ba56a9b"
      },
      "execution_count": null,
      "outputs": [
        {
          "output_type": "stream",
          "name": "stdout",
          "text": [
            "enter one number5\n",
            "5\n",
            "<class 'str'>\n"
          ]
        }
      ]
    },
    {
      "cell_type": "code",
      "source": [
        "#type casting\n",
        "a=int(input(\"enter one number\"))\n",
        "print(a)\n",
        "print(type(a))"
      ],
      "metadata": {
        "colab": {
          "base_uri": "https://localhost:8080/"
        },
        "id": "oDL8ekLlqHJE",
        "outputId": "0f8f845a-7dc2-4128-9b6d-a948cf03eae4"
      },
      "execution_count": null,
      "outputs": [
        {
          "output_type": "stream",
          "name": "stdout",
          "text": [
            "enter one number18\n",
            "18\n",
            "<class 'int'>\n"
          ]
        }
      ]
    },
    {
      "cell_type": "code",
      "source": [
        "#taking a single Character\n",
        "Gender=input(\"enter gender\")[0]\n",
        "print(Gender)"
      ],
      "metadata": {
        "colab": {
          "base_uri": "https://localhost:8080/"
        },
        "id": "fnd18MrQqMtK",
        "outputId": "e8abf495-40b7-4fe8-fcab-b956bc4f024b"
      },
      "execution_count": null,
      "outputs": [
        {
          "output_type": "stream",
          "name": "stdout",
          "text": [
            "enter genderFemale\n",
            "F\n"
          ]
        }
      ]
    },
    {
      "cell_type": "code",
      "source": [
        "#eval function\n",
        "a= eval(input(\"enter your expression\"))\n",
        "print(a)"
      ],
      "metadata": {
        "colab": {
          "base_uri": "https://localhost:8080/"
        },
        "id": "mZfKmicXqRsF",
        "outputId": "473519cc-2b23-4ed7-9c32-2296dcc75ca4"
      },
      "execution_count": null,
      "outputs": [
        {
          "output_type": "stream",
          "name": "stdout",
          "text": [
            "enter your expression2+5*45\n",
            "227\n"
          ]
        }
      ]
    },
    {
      "cell_type": "code",
      "source": [
        "#displaying combination of string and variable\n",
        "name=\"srishti\"\n",
        "salary=25000\n",
        "print(\"salary of %s is %i\"%(name,salary))   #s=string i=integer %= format specifier\n",
        "print(\"salary of %(s)s is %(n)s \"%{'s':name,\"n\":salary})\n",
        "print(\"salary of {} is {} \".format(name,salary))\n",
        "print(\"salary of {0} is {1} \".format(name,salary))"
      ],
      "metadata": {
        "colab": {
          "base_uri": "https://localhost:8080/"
        },
        "id": "nv8it8ZtqWdI",
        "outputId": "ee3dc3d5-bc0e-4088-a690-0a2b95aae077"
      },
      "execution_count": null,
      "outputs": [
        {
          "output_type": "stream",
          "name": "stdout",
          "text": [
            "salary of srishti is 25000\n",
            "salary of srishti is 25000 \n",
            "salary of srishti is 25000 \n",
            "salary of srishti is 25000 \n"
          ]
        }
      ]
    },
    {
      "cell_type": "code",
      "source": [
        "a=15\n",
        "print(\"hexadecimal form %x\"%a)\n",
        "print(\"hexadecimal form %X\"%a)"
      ],
      "metadata": {
        "colab": {
          "base_uri": "https://localhost:8080/"
        },
        "id": "kziQzlSXqjKw",
        "outputId": "61a941f7-20a3-4f4e-8813-7095cf2156a7"
      },
      "execution_count": null,
      "outputs": [
        {
          "output_type": "stream",
          "name": "stdout",
          "text": [
            "hexadecimal form f\n",
            "hexadecimal form F\n"
          ]
        }
      ]
    },
    {
      "cell_type": "code",
      "source": [
        "#conditional statements\n",
        "id=input(\"Enter  Employee Id\")\n",
        "name=input(\"Enter  Employee name\")\n",
        "designation=input(\"Enter  Employee designation\")\n",
        "salary=float(input(\"Enter  salary\"))\n",
        "B=0\n",
        "H=0\n",
        "F=0\n",
        "if designation==\"Manager\":\n",
        "  H=salary*0.08\n",
        "  F=salary*0.05\n",
        "\n",
        "B=salary*0.05\n",
        "Total=salary+B+H+F\n",
        "print(\"Total gross salary is :\",Total)"
      ],
      "metadata": {
        "colab": {
          "base_uri": "https://localhost:8080/"
        },
        "id": "y1y1y_x9qnxy",
        "outputId": "5222545d-44ee-4f91-9e82-8aa61501738c"
      },
      "execution_count": null,
      "outputs": [
        {
          "output_type": "stream",
          "name": "stdout",
          "text": [
            "Enter  Employee Id445\n",
            "Enter  Employee namemk\n",
            "Enter  Employee designationstaff\n",
            "Enter  salary27000\n",
            "Total gross salary is : 28350.0\n"
          ]
        }
      ]
    },
    {
      "cell_type": "code",
      "source": [
        "#conditional statements\n",
        "# Python program to execute if statement\n",
        "\n",
        "a, b = 6, 5\n",
        "\n",
        "# Initializing the if condition\n",
        "if a > b:\n",
        "    code = \"a is greater than b\"\n",
        "    print(code)"
      ],
      "metadata": {
        "colab": {
          "base_uri": "https://localhost:8080/"
        },
        "id": "o71g8YmvrG_V",
        "outputId": "de14413e-efa2-4096-8a06-335db462e9f9"
      },
      "execution_count": null,
      "outputs": [
        {
          "output_type": "stream",
          "name": "stdout",
          "text": [
            "a is greater than b\n"
          ]
        }
      ]
    },
    {
      "cell_type": "code",
      "source": [
        "# Python program to execute if-else statement\n",
        "\n",
        "a, b = 6, 5\n",
        "\n",
        "# Initializing the if-else condition\n",
        "if a < b:\n",
        "    code = \"a is less than b\"\n",
        "    print(code)\n",
        "else:\n",
        "    print(\"a is greater than b\")"
      ],
      "metadata": {
        "colab": {
          "base_uri": "https://localhost:8080/"
        },
        "id": "I5ZspZ6RzDq6",
        "outputId": "033558e2-6b13-449a-f650-8cf29ab285dc"
      },
      "execution_count": null,
      "outputs": [
        {
          "output_type": "stream",
          "name": "stdout",
          "text": [
            "a is greater than b\n"
          ]
        }
      ]
    },
    {
      "cell_type": "code",
      "source": [
        "# Python program to show how to use elif condition\n",
        "a, b = 9, 9\n",
        "\n",
        "# Initializing the if-else condition\n",
        "if a < b:\n",
        "    code = \"a is less than b\"\n",
        "elif a == b:\n",
        "    code = \"a is equal to b\"\n",
        "else:\n",
        "    code = \"a is greater than b\"\n",
        "\n",
        "print(code)"
      ],
      "metadata": {
        "colab": {
          "base_uri": "https://localhost:8080/"
        },
        "id": "3uXWUxEizSrI",
        "outputId": "02acd1fb-142c-44c0-e289-aac1beb683c6"
      },
      "execution_count": null,
      "outputs": [
        {
          "output_type": "stream",
          "name": "stdout",
          "text": [
            "a is equal to b\n"
          ]
        }
      ]
    },
    {
      "cell_type": "code",
      "source": [],
      "metadata": {
        "id": "aVA2sWyt7nqZ"
      },
      "execution_count": null,
      "outputs": []
    },
    {
      "source": [
        "# Python program to show the nested if-else conditions\n",
        "A = 100\n",
        "B = 200\n",
        "C = 300\n",
        "\n",
        "# Initializing the if-else conditions\n",
        "if B > A:\n",
        "    if B > C:\n",
        "        print(\"B is the largest number\")\n",
        "    else:\n",
        "        if A > B:\n",
        "            if A > C:\n",
        "                print(\"A is the largest number\") # Indented this line to be part of the if block\n",
        "        elif C > A:\n",
        "            if C > B:\n",
        "                print(\"C is the largest number\") # Indented this line to be part of the if block\n",
        "        else:\n",
        "            print(\"All numbers are equal\")\n",
        "\n",
        "if B % C == 0:\n",
        "    if A % C == 0:\n",
        "        print(\"C is a common factor of A and B\")"
      ],
      "cell_type": "code",
      "metadata": {
        "colab": {
          "base_uri": "https://localhost:8080/"
        },
        "id": "CTPjZ-qkzq21",
        "outputId": "0a84c871-14a4-4fbb-e797-5d66472642d3"
      },
      "execution_count": null,
      "outputs": [
        {
          "output_type": "stream",
          "name": "stdout",
          "text": [
            "C is the largest number\n"
          ]
        }
      ]
    },
    {
      "cell_type": "code",
      "source": [
        "a=range(10)\n",
        "print(type(a))\n",
        "print(a[0],a[1],a[2],a[3],a[4],a[5])"
      ],
      "metadata": {
        "colab": {
          "base_uri": "https://localhost:8080/"
        },
        "id": "UutolVjY7oca",
        "outputId": "e7693a01-01c4-49b0-bf8a-0e9f171b400f"
      },
      "execution_count": null,
      "outputs": [
        {
          "output_type": "stream",
          "name": "stdout",
          "text": [
            "<class 'range'>\n",
            "0 1 2 3 4 5\n"
          ]
        }
      ]
    },
    {
      "cell_type": "code",
      "source": [
        "for i in range(5, 20):\n",
        "    print(i, end=\" \")"
      ],
      "metadata": {
        "colab": {
          "base_uri": "https://localhost:8080/"
        },
        "id": "9J8RhNL27rWy",
        "outputId": "d9310fa7-d6c0-42f6-8f84-e3b7daa4d22d"
      },
      "execution_count": null,
      "outputs": [
        {
          "output_type": "stream",
          "name": "stdout",
          "text": [
            "5 6 7 8 9 10 11 12 13 14 15 16 17 18 19 "
          ]
        }
      ]
    },
    {
      "cell_type": "code",
      "source": [
        "for i in range(5, 20,2):\n",
        "    print(i, end=\" \")\n"
      ],
      "metadata": {
        "colab": {
          "base_uri": "https://localhost:8080/"
        },
        "id": "uw1xyqvG7vc5",
        "outputId": "136b5eff-d21f-468f-d5c3-23aa2fe67bb3"
      },
      "execution_count": null,
      "outputs": [
        {
          "output_type": "stream",
          "name": "stdout",
          "text": [
            "5 7 9 11 13 15 17 19 "
          ]
        }
      ]
    },
    {
      "cell_type": "code",
      "source": [
        "for i in range(20,5,-1):\n",
        "    print(i, end=\" \")"
      ],
      "metadata": {
        "colab": {
          "base_uri": "https://localhost:8080/"
        },
        "id": "i6Dqinia7zCS",
        "outputId": "9393518a-d0d2-4948-eebb-ebd9625f6105"
      },
      "execution_count": null,
      "outputs": [
        {
          "output_type": "stream",
          "name": "stdout",
          "text": [
            "20 19 18 17 16 15 14 13 12 11 10 9 8 7 6 "
          ]
        }
      ]
    },
    {
      "cell_type": "code",
      "source": [
        "for i in range(10):\n",
        "  print(i)"
      ],
      "metadata": {
        "colab": {
          "base_uri": "https://localhost:8080/"
        },
        "id": "eRM2kWNj775f",
        "outputId": "531b2b13-5a14-4574-ec72-9b35c287d718"
      },
      "execution_count": null,
      "outputs": [
        {
          "output_type": "stream",
          "name": "stdout",
          "text": [
            "0\n",
            "1\n",
            "2\n",
            "3\n",
            "4\n",
            "5\n",
            "6\n",
            "7\n",
            "8\n",
            "9\n"
          ]
        }
      ]
    },
    {
      "cell_type": "code",
      "source": [
        "for i in range(10,0,-1):\n",
        "  if i==5:\n",
        "    continue\n",
        "    print(i)\n",
        "print(\"Thank you\")"
      ],
      "metadata": {
        "colab": {
          "base_uri": "https://localhost:8080/"
        },
        "id": "sgnW7vMY791a",
        "outputId": "bb828683-f4b7-49cf-e5d5-9e530dfbb339"
      },
      "execution_count": null,
      "outputs": [
        {
          "output_type": "stream",
          "name": "stdout",
          "text": [
            "Thank you\n"
          ]
        }
      ]
    },
    {
      "cell_type": "code",
      "source": [
        "for i in range(10):\n",
        "  for j in range(10):\n",
        "    for k in range(10):\n",
        "      print(i,\"\\t\",j,\"\\t\",k)\n",
        "print(\"end of loop\")"
      ],
      "metadata": {
        "colab": {
          "base_uri": "https://localhost:8080/"
        },
        "id": "eDTzpA498Ajg",
        "outputId": "38a2cc35-8425-493e-8b06-348a4cb2460e"
      },
      "execution_count": null,
      "outputs": [
        {
          "output_type": "stream",
          "name": "stdout",
          "text": [
            "0 \t 0 \t 0\n",
            "0 \t 0 \t 1\n",
            "0 \t 0 \t 2\n",
            "0 \t 0 \t 3\n",
            "0 \t 0 \t 4\n",
            "0 \t 0 \t 5\n",
            "0 \t 0 \t 6\n",
            "0 \t 0 \t 7\n",
            "0 \t 0 \t 8\n",
            "0 \t 0 \t 9\n",
            "0 \t 1 \t 0\n",
            "0 \t 1 \t 1\n",
            "0 \t 1 \t 2\n",
            "0 \t 1 \t 3\n",
            "0 \t 1 \t 4\n",
            "0 \t 1 \t 5\n",
            "0 \t 1 \t 6\n",
            "0 \t 1 \t 7\n",
            "0 \t 1 \t 8\n",
            "0 \t 1 \t 9\n",
            "0 \t 2 \t 0\n",
            "0 \t 2 \t 1\n",
            "0 \t 2 \t 2\n",
            "0 \t 2 \t 3\n",
            "0 \t 2 \t 4\n",
            "0 \t 2 \t 5\n",
            "0 \t 2 \t 6\n",
            "0 \t 2 \t 7\n",
            "0 \t 2 \t 8\n",
            "0 \t 2 \t 9\n",
            "0 \t 3 \t 0\n",
            "0 \t 3 \t 1\n",
            "0 \t 3 \t 2\n",
            "0 \t 3 \t 3\n",
            "0 \t 3 \t 4\n",
            "0 \t 3 \t 5\n",
            "0 \t 3 \t 6\n",
            "0 \t 3 \t 7\n",
            "0 \t 3 \t 8\n",
            "0 \t 3 \t 9\n",
            "0 \t 4 \t 0\n",
            "0 \t 4 \t 1\n",
            "0 \t 4 \t 2\n",
            "0 \t 4 \t 3\n",
            "0 \t 4 \t 4\n",
            "0 \t 4 \t 5\n",
            "0 \t 4 \t 6\n",
            "0 \t 4 \t 7\n",
            "0 \t 4 \t 8\n",
            "0 \t 4 \t 9\n",
            "0 \t 5 \t 0\n",
            "0 \t 5 \t 1\n",
            "0 \t 5 \t 2\n",
            "0 \t 5 \t 3\n",
            "0 \t 5 \t 4\n",
            "0 \t 5 \t 5\n",
            "0 \t 5 \t 6\n",
            "0 \t 5 \t 7\n",
            "0 \t 5 \t 8\n",
            "0 \t 5 \t 9\n",
            "0 \t 6 \t 0\n",
            "0 \t 6 \t 1\n",
            "0 \t 6 \t 2\n",
            "0 \t 6 \t 3\n",
            "0 \t 6 \t 4\n",
            "0 \t 6 \t 5\n",
            "0 \t 6 \t 6\n",
            "0 \t 6 \t 7\n",
            "0 \t 6 \t 8\n",
            "0 \t 6 \t 9\n",
            "0 \t 7 \t 0\n",
            "0 \t 7 \t 1\n",
            "0 \t 7 \t 2\n",
            "0 \t 7 \t 3\n",
            "0 \t 7 \t 4\n",
            "0 \t 7 \t 5\n",
            "0 \t 7 \t 6\n",
            "0 \t 7 \t 7\n",
            "0 \t 7 \t 8\n",
            "0 \t 7 \t 9\n",
            "0 \t 8 \t 0\n",
            "0 \t 8 \t 1\n",
            "0 \t 8 \t 2\n",
            "0 \t 8 \t 3\n",
            "0 \t 8 \t 4\n",
            "0 \t 8 \t 5\n",
            "0 \t 8 \t 6\n",
            "0 \t 8 \t 7\n",
            "0 \t 8 \t 8\n",
            "0 \t 8 \t 9\n",
            "0 \t 9 \t 0\n",
            "0 \t 9 \t 1\n",
            "0 \t 9 \t 2\n",
            "0 \t 9 \t 3\n",
            "0 \t 9 \t 4\n",
            "0 \t 9 \t 5\n",
            "0 \t 9 \t 6\n",
            "0 \t 9 \t 7\n",
            "0 \t 9 \t 8\n",
            "0 \t 9 \t 9\n",
            "1 \t 0 \t 0\n",
            "1 \t 0 \t 1\n",
            "1 \t 0 \t 2\n",
            "1 \t 0 \t 3\n",
            "1 \t 0 \t 4\n",
            "1 \t 0 \t 5\n",
            "1 \t 0 \t 6\n",
            "1 \t 0 \t 7\n",
            "1 \t 0 \t 8\n",
            "1 \t 0 \t 9\n",
            "1 \t 1 \t 0\n",
            "1 \t 1 \t 1\n",
            "1 \t 1 \t 2\n",
            "1 \t 1 \t 3\n",
            "1 \t 1 \t 4\n",
            "1 \t 1 \t 5\n",
            "1 \t 1 \t 6\n",
            "1 \t 1 \t 7\n",
            "1 \t 1 \t 8\n",
            "1 \t 1 \t 9\n",
            "1 \t 2 \t 0\n",
            "1 \t 2 \t 1\n",
            "1 \t 2 \t 2\n",
            "1 \t 2 \t 3\n",
            "1 \t 2 \t 4\n",
            "1 \t 2 \t 5\n",
            "1 \t 2 \t 6\n",
            "1 \t 2 \t 7\n",
            "1 \t 2 \t 8\n",
            "1 \t 2 \t 9\n",
            "1 \t 3 \t 0\n",
            "1 \t 3 \t 1\n",
            "1 \t 3 \t 2\n",
            "1 \t 3 \t 3\n",
            "1 \t 3 \t 4\n",
            "1 \t 3 \t 5\n",
            "1 \t 3 \t 6\n",
            "1 \t 3 \t 7\n",
            "1 \t 3 \t 8\n",
            "1 \t 3 \t 9\n",
            "1 \t 4 \t 0\n",
            "1 \t 4 \t 1\n",
            "1 \t 4 \t 2\n",
            "1 \t 4 \t 3\n",
            "1 \t 4 \t 4\n",
            "1 \t 4 \t 5\n",
            "1 \t 4 \t 6\n",
            "1 \t 4 \t 7\n",
            "1 \t 4 \t 8\n",
            "1 \t 4 \t 9\n",
            "1 \t 5 \t 0\n",
            "1 \t 5 \t 1\n",
            "1 \t 5 \t 2\n",
            "1 \t 5 \t 3\n",
            "1 \t 5 \t 4\n",
            "1 \t 5 \t 5\n",
            "1 \t 5 \t 6\n",
            "1 \t 5 \t 7\n",
            "1 \t 5 \t 8\n",
            "1 \t 5 \t 9\n",
            "1 \t 6 \t 0\n",
            "1 \t 6 \t 1\n",
            "1 \t 6 \t 2\n",
            "1 \t 6 \t 3\n",
            "1 \t 6 \t 4\n",
            "1 \t 6 \t 5\n",
            "1 \t 6 \t 6\n",
            "1 \t 6 \t 7\n",
            "1 \t 6 \t 8\n",
            "1 \t 6 \t 9\n",
            "1 \t 7 \t 0\n",
            "1 \t 7 \t 1\n",
            "1 \t 7 \t 2\n",
            "1 \t 7 \t 3\n",
            "1 \t 7 \t 4\n",
            "1 \t 7 \t 5\n",
            "1 \t 7 \t 6\n",
            "1 \t 7 \t 7\n",
            "1 \t 7 \t 8\n",
            "1 \t 7 \t 9\n",
            "1 \t 8 \t 0\n",
            "1 \t 8 \t 1\n",
            "1 \t 8 \t 2\n",
            "1 \t 8 \t 3\n",
            "1 \t 8 \t 4\n",
            "1 \t 8 \t 5\n",
            "1 \t 8 \t 6\n",
            "1 \t 8 \t 7\n",
            "1 \t 8 \t 8\n",
            "1 \t 8 \t 9\n",
            "1 \t 9 \t 0\n",
            "1 \t 9 \t 1\n",
            "1 \t 9 \t 2\n",
            "1 \t 9 \t 3\n",
            "1 \t 9 \t 4\n",
            "1 \t 9 \t 5\n",
            "1 \t 9 \t 6\n",
            "1 \t 9 \t 7\n",
            "1 \t 9 \t 8\n",
            "1 \t 9 \t 9\n",
            "2 \t 0 \t 0\n",
            "2 \t 0 \t 1\n",
            "2 \t 0 \t 2\n",
            "2 \t 0 \t 3\n",
            "2 \t 0 \t 4\n",
            "2 \t 0 \t 5\n",
            "2 \t 0 \t 6\n",
            "2 \t 0 \t 7\n",
            "2 \t 0 \t 8\n",
            "2 \t 0 \t 9\n",
            "2 \t 1 \t 0\n",
            "2 \t 1 \t 1\n",
            "2 \t 1 \t 2\n",
            "2 \t 1 \t 3\n",
            "2 \t 1 \t 4\n",
            "2 \t 1 \t 5\n",
            "2 \t 1 \t 6\n",
            "2 \t 1 \t 7\n",
            "2 \t 1 \t 8\n",
            "2 \t 1 \t 9\n",
            "2 \t 2 \t 0\n",
            "2 \t 2 \t 1\n",
            "2 \t 2 \t 2\n",
            "2 \t 2 \t 3\n",
            "2 \t 2 \t 4\n",
            "2 \t 2 \t 5\n",
            "2 \t 2 \t 6\n",
            "2 \t 2 \t 7\n",
            "2 \t 2 \t 8\n",
            "2 \t 2 \t 9\n",
            "2 \t 3 \t 0\n",
            "2 \t 3 \t 1\n",
            "2 \t 3 \t 2\n",
            "2 \t 3 \t 3\n",
            "2 \t 3 \t 4\n",
            "2 \t 3 \t 5\n",
            "2 \t 3 \t 6\n",
            "2 \t 3 \t 7\n",
            "2 \t 3 \t 8\n",
            "2 \t 3 \t 9\n",
            "2 \t 4 \t 0\n",
            "2 \t 4 \t 1\n",
            "2 \t 4 \t 2\n",
            "2 \t 4 \t 3\n",
            "2 \t 4 \t 4\n",
            "2 \t 4 \t 5\n",
            "2 \t 4 \t 6\n",
            "2 \t 4 \t 7\n",
            "2 \t 4 \t 8\n",
            "2 \t 4 \t 9\n",
            "2 \t 5 \t 0\n",
            "2 \t 5 \t 1\n",
            "2 \t 5 \t 2\n",
            "2 \t 5 \t 3\n",
            "2 \t 5 \t 4\n",
            "2 \t 5 \t 5\n",
            "2 \t 5 \t 6\n",
            "2 \t 5 \t 7\n",
            "2 \t 5 \t 8\n",
            "2 \t 5 \t 9\n",
            "2 \t 6 \t 0\n",
            "2 \t 6 \t 1\n",
            "2 \t 6 \t 2\n",
            "2 \t 6 \t 3\n",
            "2 \t 6 \t 4\n",
            "2 \t 6 \t 5\n",
            "2 \t 6 \t 6\n",
            "2 \t 6 \t 7\n",
            "2 \t 6 \t 8\n",
            "2 \t 6 \t 9\n",
            "2 \t 7 \t 0\n",
            "2 \t 7 \t 1\n",
            "2 \t 7 \t 2\n",
            "2 \t 7 \t 3\n",
            "2 \t 7 \t 4\n",
            "2 \t 7 \t 5\n",
            "2 \t 7 \t 6\n",
            "2 \t 7 \t 7\n",
            "2 \t 7 \t 8\n",
            "2 \t 7 \t 9\n",
            "2 \t 8 \t 0\n",
            "2 \t 8 \t 1\n",
            "2 \t 8 \t 2\n",
            "2 \t 8 \t 3\n",
            "2 \t 8 \t 4\n",
            "2 \t 8 \t 5\n",
            "2 \t 8 \t 6\n",
            "2 \t 8 \t 7\n",
            "2 \t 8 \t 8\n",
            "2 \t 8 \t 9\n",
            "2 \t 9 \t 0\n",
            "2 \t 9 \t 1\n",
            "2 \t 9 \t 2\n",
            "2 \t 9 \t 3\n",
            "2 \t 9 \t 4\n",
            "2 \t 9 \t 5\n",
            "2 \t 9 \t 6\n",
            "2 \t 9 \t 7\n",
            "2 \t 9 \t 8\n",
            "2 \t 9 \t 9\n",
            "3 \t 0 \t 0\n",
            "3 \t 0 \t 1\n",
            "3 \t 0 \t 2\n",
            "3 \t 0 \t 3\n",
            "3 \t 0 \t 4\n",
            "3 \t 0 \t 5\n",
            "3 \t 0 \t 6\n",
            "3 \t 0 \t 7\n",
            "3 \t 0 \t 8\n",
            "3 \t 0 \t 9\n",
            "3 \t 1 \t 0\n",
            "3 \t 1 \t 1\n",
            "3 \t 1 \t 2\n",
            "3 \t 1 \t 3\n",
            "3 \t 1 \t 4\n",
            "3 \t 1 \t 5\n",
            "3 \t 1 \t 6\n",
            "3 \t 1 \t 7\n",
            "3 \t 1 \t 8\n",
            "3 \t 1 \t 9\n",
            "3 \t 2 \t 0\n",
            "3 \t 2 \t 1\n",
            "3 \t 2 \t 2\n",
            "3 \t 2 \t 3\n",
            "3 \t 2 \t 4\n",
            "3 \t 2 \t 5\n",
            "3 \t 2 \t 6\n",
            "3 \t 2 \t 7\n",
            "3 \t 2 \t 8\n",
            "3 \t 2 \t 9\n",
            "3 \t 3 \t 0\n",
            "3 \t 3 \t 1\n",
            "3 \t 3 \t 2\n",
            "3 \t 3 \t 3\n",
            "3 \t 3 \t 4\n",
            "3 \t 3 \t 5\n",
            "3 \t 3 \t 6\n",
            "3 \t 3 \t 7\n",
            "3 \t 3 \t 8\n",
            "3 \t 3 \t 9\n",
            "3 \t 4 \t 0\n",
            "3 \t 4 \t 1\n",
            "3 \t 4 \t 2\n",
            "3 \t 4 \t 3\n",
            "3 \t 4 \t 4\n",
            "3 \t 4 \t 5\n",
            "3 \t 4 \t 6\n",
            "3 \t 4 \t 7\n",
            "3 \t 4 \t 8\n",
            "3 \t 4 \t 9\n",
            "3 \t 5 \t 0\n",
            "3 \t 5 \t 1\n",
            "3 \t 5 \t 2\n",
            "3 \t 5 \t 3\n",
            "3 \t 5 \t 4\n",
            "3 \t 5 \t 5\n",
            "3 \t 5 \t 6\n",
            "3 \t 5 \t 7\n",
            "3 \t 5 \t 8\n",
            "3 \t 5 \t 9\n",
            "3 \t 6 \t 0\n",
            "3 \t 6 \t 1\n",
            "3 \t 6 \t 2\n",
            "3 \t 6 \t 3\n",
            "3 \t 6 \t 4\n",
            "3 \t 6 \t 5\n",
            "3 \t 6 \t 6\n",
            "3 \t 6 \t 7\n",
            "3 \t 6 \t 8\n",
            "3 \t 6 \t 9\n",
            "3 \t 7 \t 0\n",
            "3 \t 7 \t 1\n",
            "3 \t 7 \t 2\n",
            "3 \t 7 \t 3\n",
            "3 \t 7 \t 4\n",
            "3 \t 7 \t 5\n",
            "3 \t 7 \t 6\n",
            "3 \t 7 \t 7\n",
            "3 \t 7 \t 8\n",
            "3 \t 7 \t 9\n",
            "3 \t 8 \t 0\n",
            "3 \t 8 \t 1\n",
            "3 \t 8 \t 2\n",
            "3 \t 8 \t 3\n",
            "3 \t 8 \t 4\n",
            "3 \t 8 \t 5\n",
            "3 \t 8 \t 6\n",
            "3 \t 8 \t 7\n",
            "3 \t 8 \t 8\n",
            "3 \t 8 \t 9\n",
            "3 \t 9 \t 0\n",
            "3 \t 9 \t 1\n",
            "3 \t 9 \t 2\n",
            "3 \t 9 \t 3\n",
            "3 \t 9 \t 4\n",
            "3 \t 9 \t 5\n",
            "3 \t 9 \t 6\n",
            "3 \t 9 \t 7\n",
            "3 \t 9 \t 8\n",
            "3 \t 9 \t 9\n",
            "4 \t 0 \t 0\n",
            "4 \t 0 \t 1\n",
            "4 \t 0 \t 2\n",
            "4 \t 0 \t 3\n",
            "4 \t 0 \t 4\n",
            "4 \t 0 \t 5\n",
            "4 \t 0 \t 6\n",
            "4 \t 0 \t 7\n",
            "4 \t 0 \t 8\n",
            "4 \t 0 \t 9\n",
            "4 \t 1 \t 0\n",
            "4 \t 1 \t 1\n",
            "4 \t 1 \t 2\n",
            "4 \t 1 \t 3\n",
            "4 \t 1 \t 4\n",
            "4 \t 1 \t 5\n",
            "4 \t 1 \t 6\n",
            "4 \t 1 \t 7\n",
            "4 \t 1 \t 8\n",
            "4 \t 1 \t 9\n",
            "4 \t 2 \t 0\n",
            "4 \t 2 \t 1\n",
            "4 \t 2 \t 2\n",
            "4 \t 2 \t 3\n",
            "4 \t 2 \t 4\n",
            "4 \t 2 \t 5\n",
            "4 \t 2 \t 6\n",
            "4 \t 2 \t 7\n",
            "4 \t 2 \t 8\n",
            "4 \t 2 \t 9\n",
            "4 \t 3 \t 0\n",
            "4 \t 3 \t 1\n",
            "4 \t 3 \t 2\n",
            "4 \t 3 \t 3\n",
            "4 \t 3 \t 4\n",
            "4 \t 3 \t 5\n",
            "4 \t 3 \t 6\n",
            "4 \t 3 \t 7\n",
            "4 \t 3 \t 8\n",
            "4 \t 3 \t 9\n",
            "4 \t 4 \t 0\n",
            "4 \t 4 \t 1\n",
            "4 \t 4 \t 2\n",
            "4 \t 4 \t 3\n",
            "4 \t 4 \t 4\n",
            "4 \t 4 \t 5\n",
            "4 \t 4 \t 6\n",
            "4 \t 4 \t 7\n",
            "4 \t 4 \t 8\n",
            "4 \t 4 \t 9\n",
            "4 \t 5 \t 0\n",
            "4 \t 5 \t 1\n",
            "4 \t 5 \t 2\n",
            "4 \t 5 \t 3\n",
            "4 \t 5 \t 4\n",
            "4 \t 5 \t 5\n",
            "4 \t 5 \t 6\n",
            "4 \t 5 \t 7\n",
            "4 \t 5 \t 8\n",
            "4 \t 5 \t 9\n",
            "4 \t 6 \t 0\n",
            "4 \t 6 \t 1\n",
            "4 \t 6 \t 2\n",
            "4 \t 6 \t 3\n",
            "4 \t 6 \t 4\n",
            "4 \t 6 \t 5\n",
            "4 \t 6 \t 6\n",
            "4 \t 6 \t 7\n",
            "4 \t 6 \t 8\n",
            "4 \t 6 \t 9\n",
            "4 \t 7 \t 0\n",
            "4 \t 7 \t 1\n",
            "4 \t 7 \t 2\n",
            "4 \t 7 \t 3\n",
            "4 \t 7 \t 4\n",
            "4 \t 7 \t 5\n",
            "4 \t 7 \t 6\n",
            "4 \t 7 \t 7\n",
            "4 \t 7 \t 8\n",
            "4 \t 7 \t 9\n",
            "4 \t 8 \t 0\n",
            "4 \t 8 \t 1\n",
            "4 \t 8 \t 2\n",
            "4 \t 8 \t 3\n",
            "4 \t 8 \t 4\n",
            "4 \t 8 \t 5\n",
            "4 \t 8 \t 6\n",
            "4 \t 8 \t 7\n",
            "4 \t 8 \t 8\n",
            "4 \t 8 \t 9\n",
            "4 \t 9 \t 0\n",
            "4 \t 9 \t 1\n",
            "4 \t 9 \t 2\n",
            "4 \t 9 \t 3\n",
            "4 \t 9 \t 4\n",
            "4 \t 9 \t 5\n",
            "4 \t 9 \t 6\n",
            "4 \t 9 \t 7\n",
            "4 \t 9 \t 8\n",
            "4 \t 9 \t 9\n",
            "5 \t 0 \t 0\n",
            "5 \t 0 \t 1\n",
            "5 \t 0 \t 2\n",
            "5 \t 0 \t 3\n",
            "5 \t 0 \t 4\n",
            "5 \t 0 \t 5\n",
            "5 \t 0 \t 6\n",
            "5 \t 0 \t 7\n",
            "5 \t 0 \t 8\n",
            "5 \t 0 \t 9\n",
            "5 \t 1 \t 0\n",
            "5 \t 1 \t 1\n",
            "5 \t 1 \t 2\n",
            "5 \t 1 \t 3\n",
            "5 \t 1 \t 4\n",
            "5 \t 1 \t 5\n",
            "5 \t 1 \t 6\n",
            "5 \t 1 \t 7\n",
            "5 \t 1 \t 8\n",
            "5 \t 1 \t 9\n",
            "5 \t 2 \t 0\n",
            "5 \t 2 \t 1\n",
            "5 \t 2 \t 2\n",
            "5 \t 2 \t 3\n",
            "5 \t 2 \t 4\n",
            "5 \t 2 \t 5\n",
            "5 \t 2 \t 6\n",
            "5 \t 2 \t 7\n",
            "5 \t 2 \t 8\n",
            "5 \t 2 \t 9\n",
            "5 \t 3 \t 0\n",
            "5 \t 3 \t 1\n",
            "5 \t 3 \t 2\n",
            "5 \t 3 \t 3\n",
            "5 \t 3 \t 4\n",
            "5 \t 3 \t 5\n",
            "5 \t 3 \t 6\n",
            "5 \t 3 \t 7\n",
            "5 \t 3 \t 8\n",
            "5 \t 3 \t 9\n",
            "5 \t 4 \t 0\n",
            "5 \t 4 \t 1\n",
            "5 \t 4 \t 2\n",
            "5 \t 4 \t 3\n",
            "5 \t 4 \t 4\n",
            "5 \t 4 \t 5\n",
            "5 \t 4 \t 6\n",
            "5 \t 4 \t 7\n",
            "5 \t 4 \t 8\n",
            "5 \t 4 \t 9\n",
            "5 \t 5 \t 0\n",
            "5 \t 5 \t 1\n",
            "5 \t 5 \t 2\n",
            "5 \t 5 \t 3\n",
            "5 \t 5 \t 4\n",
            "5 \t 5 \t 5\n",
            "5 \t 5 \t 6\n",
            "5 \t 5 \t 7\n",
            "5 \t 5 \t 8\n",
            "5 \t 5 \t 9\n",
            "5 \t 6 \t 0\n",
            "5 \t 6 \t 1\n",
            "5 \t 6 \t 2\n",
            "5 \t 6 \t 3\n",
            "5 \t 6 \t 4\n",
            "5 \t 6 \t 5\n",
            "5 \t 6 \t 6\n",
            "5 \t 6 \t 7\n",
            "5 \t 6 \t 8\n",
            "5 \t 6 \t 9\n",
            "5 \t 7 \t 0\n",
            "5 \t 7 \t 1\n",
            "5 \t 7 \t 2\n",
            "5 \t 7 \t 3\n",
            "5 \t 7 \t 4\n",
            "5 \t 7 \t 5\n",
            "5 \t 7 \t 6\n",
            "5 \t 7 \t 7\n",
            "5 \t 7 \t 8\n",
            "5 \t 7 \t 9\n",
            "5 \t 8 \t 0\n",
            "5 \t 8 \t 1\n",
            "5 \t 8 \t 2\n",
            "5 \t 8 \t 3\n",
            "5 \t 8 \t 4\n",
            "5 \t 8 \t 5\n",
            "5 \t 8 \t 6\n",
            "5 \t 8 \t 7\n",
            "5 \t 8 \t 8\n",
            "5 \t 8 \t 9\n",
            "5 \t 9 \t 0\n",
            "5 \t 9 \t 1\n",
            "5 \t 9 \t 2\n",
            "5 \t 9 \t 3\n",
            "5 \t 9 \t 4\n",
            "5 \t 9 \t 5\n",
            "5 \t 9 \t 6\n",
            "5 \t 9 \t 7\n",
            "5 \t 9 \t 8\n",
            "5 \t 9 \t 9\n",
            "6 \t 0 \t 0\n",
            "6 \t 0 \t 1\n",
            "6 \t 0 \t 2\n",
            "6 \t 0 \t 3\n",
            "6 \t 0 \t 4\n",
            "6 \t 0 \t 5\n",
            "6 \t 0 \t 6\n",
            "6 \t 0 \t 7\n",
            "6 \t 0 \t 8\n",
            "6 \t 0 \t 9\n",
            "6 \t 1 \t 0\n",
            "6 \t 1 \t 1\n",
            "6 \t 1 \t 2\n",
            "6 \t 1 \t 3\n",
            "6 \t 1 \t 4\n",
            "6 \t 1 \t 5\n",
            "6 \t 1 \t 6\n",
            "6 \t 1 \t 7\n",
            "6 \t 1 \t 8\n",
            "6 \t 1 \t 9\n",
            "6 \t 2 \t 0\n",
            "6 \t 2 \t 1\n",
            "6 \t 2 \t 2\n",
            "6 \t 2 \t 3\n",
            "6 \t 2 \t 4\n",
            "6 \t 2 \t 5\n",
            "6 \t 2 \t 6\n",
            "6 \t 2 \t 7\n",
            "6 \t 2 \t 8\n",
            "6 \t 2 \t 9\n",
            "6 \t 3 \t 0\n",
            "6 \t 3 \t 1\n",
            "6 \t 3 \t 2\n",
            "6 \t 3 \t 3\n",
            "6 \t 3 \t 4\n",
            "6 \t 3 \t 5\n",
            "6 \t 3 \t 6\n",
            "6 \t 3 \t 7\n",
            "6 \t 3 \t 8\n",
            "6 \t 3 \t 9\n",
            "6 \t 4 \t 0\n",
            "6 \t 4 \t 1\n",
            "6 \t 4 \t 2\n",
            "6 \t 4 \t 3\n",
            "6 \t 4 \t 4\n",
            "6 \t 4 \t 5\n",
            "6 \t 4 \t 6\n",
            "6 \t 4 \t 7\n",
            "6 \t 4 \t 8\n",
            "6 \t 4 \t 9\n",
            "6 \t 5 \t 0\n",
            "6 \t 5 \t 1\n",
            "6 \t 5 \t 2\n",
            "6 \t 5 \t 3\n",
            "6 \t 5 \t 4\n",
            "6 \t 5 \t 5\n",
            "6 \t 5 \t 6\n",
            "6 \t 5 \t 7\n",
            "6 \t 5 \t 8\n",
            "6 \t 5 \t 9\n",
            "6 \t 6 \t 0\n",
            "6 \t 6 \t 1\n",
            "6 \t 6 \t 2\n",
            "6 \t 6 \t 3\n",
            "6 \t 6 \t 4\n",
            "6 \t 6 \t 5\n",
            "6 \t 6 \t 6\n",
            "6 \t 6 \t 7\n",
            "6 \t 6 \t 8\n",
            "6 \t 6 \t 9\n",
            "6 \t 7 \t 0\n",
            "6 \t 7 \t 1\n",
            "6 \t 7 \t 2\n",
            "6 \t 7 \t 3\n",
            "6 \t 7 \t 4\n",
            "6 \t 7 \t 5\n",
            "6 \t 7 \t 6\n",
            "6 \t 7 \t 7\n",
            "6 \t 7 \t 8\n",
            "6 \t 7 \t 9\n",
            "6 \t 8 \t 0\n",
            "6 \t 8 \t 1\n",
            "6 \t 8 \t 2\n",
            "6 \t 8 \t 3\n",
            "6 \t 8 \t 4\n",
            "6 \t 8 \t 5\n",
            "6 \t 8 \t 6\n",
            "6 \t 8 \t 7\n",
            "6 \t 8 \t 8\n",
            "6 \t 8 \t 9\n",
            "6 \t 9 \t 0\n",
            "6 \t 9 \t 1\n",
            "6 \t 9 \t 2\n",
            "6 \t 9 \t 3\n",
            "6 \t 9 \t 4\n",
            "6 \t 9 \t 5\n",
            "6 \t 9 \t 6\n",
            "6 \t 9 \t 7\n",
            "6 \t 9 \t 8\n",
            "6 \t 9 \t 9\n",
            "7 \t 0 \t 0\n",
            "7 \t 0 \t 1\n",
            "7 \t 0 \t 2\n",
            "7 \t 0 \t 3\n",
            "7 \t 0 \t 4\n",
            "7 \t 0 \t 5\n",
            "7 \t 0 \t 6\n",
            "7 \t 0 \t 7\n",
            "7 \t 0 \t 8\n",
            "7 \t 0 \t 9\n",
            "7 \t 1 \t 0\n",
            "7 \t 1 \t 1\n",
            "7 \t 1 \t 2\n",
            "7 \t 1 \t 3\n",
            "7 \t 1 \t 4\n",
            "7 \t 1 \t 5\n",
            "7 \t 1 \t 6\n",
            "7 \t 1 \t 7\n",
            "7 \t 1 \t 8\n",
            "7 \t 1 \t 9\n",
            "7 \t 2 \t 0\n",
            "7 \t 2 \t 1\n",
            "7 \t 2 \t 2\n",
            "7 \t 2 \t 3\n",
            "7 \t 2 \t 4\n",
            "7 \t 2 \t 5\n",
            "7 \t 2 \t 6\n",
            "7 \t 2 \t 7\n",
            "7 \t 2 \t 8\n",
            "7 \t 2 \t 9\n",
            "7 \t 3 \t 0\n",
            "7 \t 3 \t 1\n",
            "7 \t 3 \t 2\n",
            "7 \t 3 \t 3\n",
            "7 \t 3 \t 4\n",
            "7 \t 3 \t 5\n",
            "7 \t 3 \t 6\n",
            "7 \t 3 \t 7\n",
            "7 \t 3 \t 8\n",
            "7 \t 3 \t 9\n",
            "7 \t 4 \t 0\n",
            "7 \t 4 \t 1\n",
            "7 \t 4 \t 2\n",
            "7 \t 4 \t 3\n",
            "7 \t 4 \t 4\n",
            "7 \t 4 \t 5\n",
            "7 \t 4 \t 6\n",
            "7 \t 4 \t 7\n",
            "7 \t 4 \t 8\n",
            "7 \t 4 \t 9\n",
            "7 \t 5 \t 0\n",
            "7 \t 5 \t 1\n",
            "7 \t 5 \t 2\n",
            "7 \t 5 \t 3\n",
            "7 \t 5 \t 4\n",
            "7 \t 5 \t 5\n",
            "7 \t 5 \t 6\n",
            "7 \t 5 \t 7\n",
            "7 \t 5 \t 8\n",
            "7 \t 5 \t 9\n",
            "7 \t 6 \t 0\n",
            "7 \t 6 \t 1\n",
            "7 \t 6 \t 2\n",
            "7 \t 6 \t 3\n",
            "7 \t 6 \t 4\n",
            "7 \t 6 \t 5\n",
            "7 \t 6 \t 6\n",
            "7 \t 6 \t 7\n",
            "7 \t 6 \t 8\n",
            "7 \t 6 \t 9\n",
            "7 \t 7 \t 0\n",
            "7 \t 7 \t 1\n",
            "7 \t 7 \t 2\n",
            "7 \t 7 \t 3\n",
            "7 \t 7 \t 4\n",
            "7 \t 7 \t 5\n",
            "7 \t 7 \t 6\n",
            "7 \t 7 \t 7\n",
            "7 \t 7 \t 8\n",
            "7 \t 7 \t 9\n",
            "7 \t 8 \t 0\n",
            "7 \t 8 \t 1\n",
            "7 \t 8 \t 2\n",
            "7 \t 8 \t 3\n",
            "7 \t 8 \t 4\n",
            "7 \t 8 \t 5\n",
            "7 \t 8 \t 6\n",
            "7 \t 8 \t 7\n",
            "7 \t 8 \t 8\n",
            "7 \t 8 \t 9\n",
            "7 \t 9 \t 0\n",
            "7 \t 9 \t 1\n",
            "7 \t 9 \t 2\n",
            "7 \t 9 \t 3\n",
            "7 \t 9 \t 4\n",
            "7 \t 9 \t 5\n",
            "7 \t 9 \t 6\n",
            "7 \t 9 \t 7\n",
            "7 \t 9 \t 8\n",
            "7 \t 9 \t 9\n",
            "8 \t 0 \t 0\n",
            "8 \t 0 \t 1\n",
            "8 \t 0 \t 2\n",
            "8 \t 0 \t 3\n",
            "8 \t 0 \t 4\n",
            "8 \t 0 \t 5\n",
            "8 \t 0 \t 6\n",
            "8 \t 0 \t 7\n",
            "8 \t 0 \t 8\n",
            "8 \t 0 \t 9\n",
            "8 \t 1 \t 0\n",
            "8 \t 1 \t 1\n",
            "8 \t 1 \t 2\n",
            "8 \t 1 \t 3\n",
            "8 \t 1 \t 4\n",
            "8 \t 1 \t 5\n",
            "8 \t 1 \t 6\n",
            "8 \t 1 \t 7\n",
            "8 \t 1 \t 8\n",
            "8 \t 1 \t 9\n",
            "8 \t 2 \t 0\n",
            "8 \t 2 \t 1\n",
            "8 \t 2 \t 2\n",
            "8 \t 2 \t 3\n",
            "8 \t 2 \t 4\n",
            "8 \t 2 \t 5\n",
            "8 \t 2 \t 6\n",
            "8 \t 2 \t 7\n",
            "8 \t 2 \t 8\n",
            "8 \t 2 \t 9\n",
            "8 \t 3 \t 0\n",
            "8 \t 3 \t 1\n",
            "8 \t 3 \t 2\n",
            "8 \t 3 \t 3\n",
            "8 \t 3 \t 4\n",
            "8 \t 3 \t 5\n",
            "8 \t 3 \t 6\n",
            "8 \t 3 \t 7\n",
            "8 \t 3 \t 8\n",
            "8 \t 3 \t 9\n",
            "8 \t 4 \t 0\n",
            "8 \t 4 \t 1\n",
            "8 \t 4 \t 2\n",
            "8 \t 4 \t 3\n",
            "8 \t 4 \t 4\n",
            "8 \t 4 \t 5\n",
            "8 \t 4 \t 6\n",
            "8 \t 4 \t 7\n",
            "8 \t 4 \t 8\n",
            "8 \t 4 \t 9\n",
            "8 \t 5 \t 0\n",
            "8 \t 5 \t 1\n",
            "8 \t 5 \t 2\n",
            "8 \t 5 \t 3\n",
            "8 \t 5 \t 4\n",
            "8 \t 5 \t 5\n",
            "8 \t 5 \t 6\n",
            "8 \t 5 \t 7\n",
            "8 \t 5 \t 8\n",
            "8 \t 5 \t 9\n",
            "8 \t 6 \t 0\n",
            "8 \t 6 \t 1\n",
            "8 \t 6 \t 2\n",
            "8 \t 6 \t 3\n",
            "8 \t 6 \t 4\n",
            "8 \t 6 \t 5\n",
            "8 \t 6 \t 6\n",
            "8 \t 6 \t 7\n",
            "8 \t 6 \t 8\n",
            "8 \t 6 \t 9\n",
            "8 \t 7 \t 0\n",
            "8 \t 7 \t 1\n",
            "8 \t 7 \t 2\n",
            "8 \t 7 \t 3\n",
            "8 \t 7 \t 4\n",
            "8 \t 7 \t 5\n",
            "8 \t 7 \t 6\n",
            "8 \t 7 \t 7\n",
            "8 \t 7 \t 8\n",
            "8 \t 7 \t 9\n",
            "8 \t 8 \t 0\n",
            "8 \t 8 \t 1\n",
            "8 \t 8 \t 2\n",
            "8 \t 8 \t 3\n",
            "8 \t 8 \t 4\n",
            "8 \t 8 \t 5\n",
            "8 \t 8 \t 6\n",
            "8 \t 8 \t 7\n",
            "8 \t 8 \t 8\n",
            "8 \t 8 \t 9\n",
            "8 \t 9 \t 0\n",
            "8 \t 9 \t 1\n",
            "8 \t 9 \t 2\n",
            "8 \t 9 \t 3\n",
            "8 \t 9 \t 4\n",
            "8 \t 9 \t 5\n",
            "8 \t 9 \t 6\n",
            "8 \t 9 \t 7\n",
            "8 \t 9 \t 8\n",
            "8 \t 9 \t 9\n",
            "9 \t 0 \t 0\n",
            "9 \t 0 \t 1\n",
            "9 \t 0 \t 2\n",
            "9 \t 0 \t 3\n",
            "9 \t 0 \t 4\n",
            "9 \t 0 \t 5\n",
            "9 \t 0 \t 6\n",
            "9 \t 0 \t 7\n",
            "9 \t 0 \t 8\n",
            "9 \t 0 \t 9\n",
            "9 \t 1 \t 0\n",
            "9 \t 1 \t 1\n",
            "9 \t 1 \t 2\n",
            "9 \t 1 \t 3\n",
            "9 \t 1 \t 4\n",
            "9 \t 1 \t 5\n",
            "9 \t 1 \t 6\n",
            "9 \t 1 \t 7\n",
            "9 \t 1 \t 8\n",
            "9 \t 1 \t 9\n",
            "9 \t 2 \t 0\n",
            "9 \t 2 \t 1\n",
            "9 \t 2 \t 2\n",
            "9 \t 2 \t 3\n",
            "9 \t 2 \t 4\n",
            "9 \t 2 \t 5\n",
            "9 \t 2 \t 6\n",
            "9 \t 2 \t 7\n",
            "9 \t 2 \t 8\n",
            "9 \t 2 \t 9\n",
            "9 \t 3 \t 0\n",
            "9 \t 3 \t 1\n",
            "9 \t 3 \t 2\n",
            "9 \t 3 \t 3\n",
            "9 \t 3 \t 4\n",
            "9 \t 3 \t 5\n",
            "9 \t 3 \t 6\n",
            "9 \t 3 \t 7\n",
            "9 \t 3 \t 8\n",
            "9 \t 3 \t 9\n",
            "9 \t 4 \t 0\n",
            "9 \t 4 \t 1\n",
            "9 \t 4 \t 2\n",
            "9 \t 4 \t 3\n",
            "9 \t 4 \t 4\n",
            "9 \t 4 \t 5\n",
            "9 \t 4 \t 6\n",
            "9 \t 4 \t 7\n",
            "9 \t 4 \t 8\n",
            "9 \t 4 \t 9\n",
            "9 \t 5 \t 0\n",
            "9 \t 5 \t 1\n",
            "9 \t 5 \t 2\n",
            "9 \t 5 \t 3\n",
            "9 \t 5 \t 4\n",
            "9 \t 5 \t 5\n",
            "9 \t 5 \t 6\n",
            "9 \t 5 \t 7\n",
            "9 \t 5 \t 8\n",
            "9 \t 5 \t 9\n",
            "9 \t 6 \t 0\n",
            "9 \t 6 \t 1\n",
            "9 \t 6 \t 2\n",
            "9 \t 6 \t 3\n",
            "9 \t 6 \t 4\n",
            "9 \t 6 \t 5\n",
            "9 \t 6 \t 6\n",
            "9 \t 6 \t 7\n",
            "9 \t 6 \t 8\n",
            "9 \t 6 \t 9\n",
            "9 \t 7 \t 0\n",
            "9 \t 7 \t 1\n",
            "9 \t 7 \t 2\n",
            "9 \t 7 \t 3\n",
            "9 \t 7 \t 4\n",
            "9 \t 7 \t 5\n",
            "9 \t 7 \t 6\n",
            "9 \t 7 \t 7\n",
            "9 \t 7 \t 8\n",
            "9 \t 7 \t 9\n",
            "9 \t 8 \t 0\n",
            "9 \t 8 \t 1\n",
            "9 \t 8 \t 2\n",
            "9 \t 8 \t 3\n",
            "9 \t 8 \t 4\n",
            "9 \t 8 \t 5\n",
            "9 \t 8 \t 6\n",
            "9 \t 8 \t 7\n",
            "9 \t 8 \t 8\n",
            "9 \t 8 \t 9\n",
            "9 \t 9 \t 0\n",
            "9 \t 9 \t 1\n",
            "9 \t 9 \t 2\n",
            "9 \t 9 \t 3\n",
            "9 \t 9 \t 4\n",
            "9 \t 9 \t 5\n",
            "9 \t 9 \t 6\n",
            "9 \t 9 \t 7\n",
            "9 \t 9 \t 8\n",
            "9 \t 9 \t 9\n",
            "end of loop\n"
          ]
        }
      ]
    },
    {
      "cell_type": "code",
      "source": [
        "#while loop\n",
        "# Python program to show how to use a while loop\n",
        "counter = 0\n",
        "# Initiating the loop\n",
        "while counter < 10: # giving the condition\n",
        "    counter = counter + 3\n",
        "    print(\"Python Loops\")"
      ],
      "metadata": {
        "colab": {
          "base_uri": "https://localhost:8080/"
        },
        "id": "-sNupL1e8DiG",
        "outputId": "038b597c-3cd7-469f-8c1d-efac67a566ad"
      },
      "execution_count": null,
      "outputs": [
        {
          "output_type": "stream",
          "name": "stdout",
          "text": [
            "Python Loops\n",
            "Python Loops\n",
            "Python Loops\n",
            "Python Loops\n"
          ]
        }
      ]
    },
    {
      "cell_type": "code",
      "source": [
        "i=1\n",
        "while i<=7:\n",
        "  print(i)\n",
        "  i=i+1\n",
        "print(\"can't print more values\")"
      ],
      "metadata": {
        "colab": {
          "base_uri": "https://localhost:8080/"
        },
        "id": "fe98xDz18Ngd",
        "outputId": "e6afd4d1-996f-47ae-d9b7-0104bfb5db8b"
      },
      "execution_count": null,
      "outputs": [
        {
          "output_type": "stream",
          "name": "stdout",
          "text": [
            "1\n",
            "2\n",
            "3\n",
            "4\n",
            "5\n",
            "6\n",
            "7\n",
            "can't print more values\n"
          ]
        }
      ]
    },
    {
      "cell_type": "code",
      "source": [
        "i=1\n",
        "while i<=5:\n",
        "\n",
        "  print(i)\n",
        "  i=i+1\n",
        "else:\n",
        "  print(\"thank you\")\n",
        "print(\"Bye\")"
      ],
      "metadata": {
        "colab": {
          "base_uri": "https://localhost:8080/"
        },
        "id": "GEa0k2-58RTE",
        "outputId": "a78b4e9e-a9be-4661-f547-8f23e3b718ca"
      },
      "execution_count": null,
      "outputs": [
        {
          "output_type": "stream",
          "name": "stdout",
          "text": [
            "1\n",
            "2\n",
            "3\n",
            "4\n",
            "5\n",
            "thank you\n",
            "Bye\n"
          ]
        }
      ]
    },
    {
      "cell_type": "code",
      "source": [
        "#function\n",
        "def greet():\n",
        "    print('Hello World!')\n",
        "\n",
        "# call the function\n",
        "greet()\n",
        "\n",
        "print('Outside function')"
      ],
      "metadata": {
        "colab": {
          "base_uri": "https://localhost:8080/"
        },
        "id": "mKx1gtgE-Zra",
        "outputId": "fdd4e175-a94b-473c-cb02-a534606537bb"
      },
      "execution_count": null,
      "outputs": [
        {
          "output_type": "stream",
          "name": "stdout",
          "text": [
            "Hello World!\n",
            "Outside function\n"
          ]
        }
      ]
    },
    {
      "cell_type": "code",
      "source": [
        "# function with two arguments\n",
        "def add_numbers(num1, num2):\n",
        "    sum = num1 + num2\n",
        "    print(\"Sum: \", sum)\n",
        "\n",
        "# function call with two values\n",
        "add_numbers(5, 4)"
      ],
      "metadata": {
        "colab": {
          "base_uri": "https://localhost:8080/"
        },
        "id": "_fWfDxtK_HwQ",
        "outputId": "b721726a-3a94-4792-bfbe-2411d14b2b18"
      },
      "execution_count": null,
      "outputs": [
        {
          "output_type": "stream",
          "name": "stdout",
          "text": [
            "Sum:  9\n"
          ]
        }
      ]
    },
    {
      "cell_type": "code",
      "source": [
        "# function definition\n",
        "def find_square(num):\n",
        "    result = num * num\n",
        "    return result\n",
        "\n",
        "# function call\n",
        "square = find_square(3)\n",
        "\n",
        "print('Square:', square)"
      ],
      "metadata": {
        "colab": {
          "base_uri": "https://localhost:8080/"
        },
        "id": "dWT8xe60_NIh",
        "outputId": "d416d78f-a6e1-4175-f97e-46e174e0b576"
      },
      "execution_count": null,
      "outputs": [
        {
          "output_type": "stream",
          "name": "stdout",
          "text": [
            "Square: 9\n"
          ]
        }
      ]
    },
    {
      "cell_type": "code",
      "source": [
        "def future_function():\n",
        "    pass\n",
        "\n",
        "# this will execute without any action or error\n",
        "future_function()"
      ],
      "metadata": {
        "id": "hyuG0vc8_RML"
      },
      "execution_count": null,
      "outputs": []
    }
  ]
}