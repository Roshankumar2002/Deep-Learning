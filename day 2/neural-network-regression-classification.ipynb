{
 "cells": [
  {
   "cell_type": "markdown",
   "metadata": {},
   "source": [
    "# Regression task\n",
    "\n",
    "Predicting a continuous value based on input data."
   ]
  },
  {
   "cell_type": "code",
   "execution_count": 7,
   "metadata": {
    "_cell_guid": "b1076dfc-b9ad-4769-8c92-a6c4dae69d19",
    "_uuid": "8f2839f25d086af736a60e9eeb907d3b93b6e0e5"
   },
   "outputs": [],
   "source": [
    "import numpy as np #matrix operations\n",
    "import pandas as pd # data processing, CSV file I/O (e.g. pd.read_csv)\n",
    "from sklearn.model_selection import train_test_split #split the dataset to train and test\n",
    "from sklearn.preprocessing import MinMaxScaler #scaling the data (bring to data in one range)\n",
    "import matplotlib.pyplot as plt #for plot"
   ]
  },
  {
   "cell_type": "code",
   "execution_count": 8,
   "metadata": {
    "_cell_guid": "79c7e3d0-c299-4dcb-8224-4455121ee9b0",
    "_uuid": "d629ff2d2480ee46fbb7e2d37f6b5fab8052498a"
   },
   "outputs": [
    {
     "data": {
      "text/html": [
       "<div>\n",
       "<style scoped>\n",
       "    .dataframe tbody tr th:only-of-type {\n",
       "        vertical-align: middle;\n",
       "    }\n",
       "\n",
       "    .dataframe tbody tr th {\n",
       "        vertical-align: top;\n",
       "    }\n",
       "\n",
       "    .dataframe thead th {\n",
       "        text-align: right;\n",
       "    }\n",
       "</style>\n",
       "<table border=\"1\" class=\"dataframe\">\n",
       "  <thead>\n",
       "    <tr style=\"text-align: right;\">\n",
       "      <th></th>\n",
       "      <th>Serial No.</th>\n",
       "      <th>GRE Score</th>\n",
       "      <th>TOEFL Score</th>\n",
       "      <th>University Rating</th>\n",
       "      <th>SOP</th>\n",
       "      <th>LOR</th>\n",
       "      <th>CGPA</th>\n",
       "      <th>Research</th>\n",
       "      <th>Chance of Admit</th>\n",
       "    </tr>\n",
       "  </thead>\n",
       "  <tbody>\n",
       "    <tr>\n",
       "      <th>0</th>\n",
       "      <td>1</td>\n",
       "      <td>337</td>\n",
       "      <td>118</td>\n",
       "      <td>4</td>\n",
       "      <td>4.5</td>\n",
       "      <td>4.5</td>\n",
       "      <td>9.65</td>\n",
       "      <td>1</td>\n",
       "      <td>0.92</td>\n",
       "    </tr>\n",
       "    <tr>\n",
       "      <th>1</th>\n",
       "      <td>2</td>\n",
       "      <td>324</td>\n",
       "      <td>107</td>\n",
       "      <td>4</td>\n",
       "      <td>4.0</td>\n",
       "      <td>4.5</td>\n",
       "      <td>8.87</td>\n",
       "      <td>1</td>\n",
       "      <td>0.76</td>\n",
       "    </tr>\n",
       "    <tr>\n",
       "      <th>2</th>\n",
       "      <td>3</td>\n",
       "      <td>316</td>\n",
       "      <td>104</td>\n",
       "      <td>3</td>\n",
       "      <td>3.0</td>\n",
       "      <td>3.5</td>\n",
       "      <td>8.00</td>\n",
       "      <td>1</td>\n",
       "      <td>0.72</td>\n",
       "    </tr>\n",
       "    <tr>\n",
       "      <th>3</th>\n",
       "      <td>4</td>\n",
       "      <td>322</td>\n",
       "      <td>110</td>\n",
       "      <td>3</td>\n",
       "      <td>3.5</td>\n",
       "      <td>2.5</td>\n",
       "      <td>8.67</td>\n",
       "      <td>1</td>\n",
       "      <td>0.80</td>\n",
       "    </tr>\n",
       "    <tr>\n",
       "      <th>4</th>\n",
       "      <td>5</td>\n",
       "      <td>314</td>\n",
       "      <td>103</td>\n",
       "      <td>2</td>\n",
       "      <td>2.0</td>\n",
       "      <td>3.0</td>\n",
       "      <td>8.21</td>\n",
       "      <td>0</td>\n",
       "      <td>0.65</td>\n",
       "    </tr>\n",
       "  </tbody>\n",
       "</table>\n",
       "</div>"
      ],
      "text/plain": [
       "   Serial No.  GRE Score  TOEFL Score  University Rating  SOP  LOR   CGPA  \\\n",
       "0           1        337          118                  4  4.5   4.5  9.65   \n",
       "1           2        324          107                  4  4.0   4.5  8.87   \n",
       "2           3        316          104                  3  3.0   3.5  8.00   \n",
       "3           4        322          110                  3  3.5   2.5  8.67   \n",
       "4           5        314          103                  2  2.0   3.0  8.21   \n",
       "\n",
       "   Research  Chance of Admit   \n",
       "0         1              0.92  \n",
       "1         1              0.76  \n",
       "2         1              0.72  \n",
       "3         1              0.80  \n",
       "4         0              0.65  "
      ]
     },
     "execution_count": 8,
     "metadata": {},
     "output_type": "execute_result"
    }
   ],
   "source": [
    "# read the csv file using pandas libraries\n",
    "df=pd.read_csv(\"Admission_Predict.csv\")\n",
    "df.head() #show 1st five row"
   ]
  },
  {
   "cell_type": "code",
   "execution_count": 3,
   "metadata": {},
   "outputs": [
    {
     "data": {
      "text/plain": [
       "(500, 9)"
      ]
     },
     "execution_count": 3,
     "metadata": {},
     "output_type": "execute_result"
    }
   ],
   "source": [
    "df.shape"
   ]
  },
  {
   "cell_type": "raw",
   "metadata": {},
   "source": [
    "(500, 9) 1st one is number of rows and 2nd value is number of columns"
   ]
  },
  {
   "cell_type": "code",
   "execution_count": 3,
   "metadata": {},
   "outputs": [
    {
     "data": {
      "text/html": [
       "<div>\n",
       "<style scoped>\n",
       "    .dataframe tbody tr th:only-of-type {\n",
       "        vertical-align: middle;\n",
       "    }\n",
       "\n",
       "    .dataframe tbody tr th {\n",
       "        vertical-align: top;\n",
       "    }\n",
       "\n",
       "    .dataframe thead th {\n",
       "        text-align: right;\n",
       "    }\n",
       "</style>\n",
       "<table border=\"1\" class=\"dataframe\">\n",
       "  <thead>\n",
       "    <tr style=\"text-align: right;\">\n",
       "      <th></th>\n",
       "      <th>GRE</th>\n",
       "      <th>TOEFL</th>\n",
       "      <th>University Rating</th>\n",
       "      <th>SOP</th>\n",
       "      <th>LOR</th>\n",
       "      <th>CGPA</th>\n",
       "      <th>Research</th>\n",
       "      <th>Admission_Chance</th>\n",
       "    </tr>\n",
       "  </thead>\n",
       "  <tbody>\n",
       "    <tr>\n",
       "      <th>0</th>\n",
       "      <td>337</td>\n",
       "      <td>118</td>\n",
       "      <td>4</td>\n",
       "      <td>4.5</td>\n",
       "      <td>4.5</td>\n",
       "      <td>9.65</td>\n",
       "      <td>1</td>\n",
       "      <td>0.92</td>\n",
       "    </tr>\n",
       "    <tr>\n",
       "      <th>1</th>\n",
       "      <td>324</td>\n",
       "      <td>107</td>\n",
       "      <td>4</td>\n",
       "      <td>4.0</td>\n",
       "      <td>4.5</td>\n",
       "      <td>8.87</td>\n",
       "      <td>1</td>\n",
       "      <td>0.76</td>\n",
       "    </tr>\n",
       "    <tr>\n",
       "      <th>2</th>\n",
       "      <td>316</td>\n",
       "      <td>104</td>\n",
       "      <td>3</td>\n",
       "      <td>3.0</td>\n",
       "      <td>3.5</td>\n",
       "      <td>8.00</td>\n",
       "      <td>1</td>\n",
       "      <td>0.72</td>\n",
       "    </tr>\n",
       "    <tr>\n",
       "      <th>3</th>\n",
       "      <td>322</td>\n",
       "      <td>110</td>\n",
       "      <td>3</td>\n",
       "      <td>3.5</td>\n",
       "      <td>2.5</td>\n",
       "      <td>8.67</td>\n",
       "      <td>1</td>\n",
       "      <td>0.80</td>\n",
       "    </tr>\n",
       "    <tr>\n",
       "      <th>4</th>\n",
       "      <td>314</td>\n",
       "      <td>103</td>\n",
       "      <td>2</td>\n",
       "      <td>2.0</td>\n",
       "      <td>3.0</td>\n",
       "      <td>8.21</td>\n",
       "      <td>0</td>\n",
       "      <td>0.65</td>\n",
       "    </tr>\n",
       "  </tbody>\n",
       "</table>\n",
       "</div>"
      ],
      "text/plain": [
       "   GRE  TOEFL  University Rating  SOP  LOR   CGPA  Research  Admission_Chance\n",
       "0  337    118                  4  4.5   4.5  9.65         1              0.92\n",
       "1  324    107                  4  4.0   4.5  8.87         1              0.76\n",
       "2  316    104                  3  3.0   3.5  8.00         1              0.72\n",
       "3  322    110                  3  3.5   2.5  8.67         1              0.80\n",
       "4  314    103                  2  2.0   3.0  8.21         0              0.65"
      ]
     },
     "execution_count": 3,
     "metadata": {},
     "output_type": "execute_result"
    }
   ],
   "source": [
    "#changing names because previous names are little bit confusing\n",
    "df=df.rename(index=str, columns={\"GRE Score\": \"GRE\", \"TOEFL Score\": \"TOEFL\", \"Chance of Admit \": \"Admission_Chance\"})\n",
    "#we donot need serial number so its good to drop it because its just a number\n",
    "df=df.drop(\"Serial No.\",axis=1)\n",
    "df.head()"
   ]
  },
  {
   "cell_type": "code",
   "execution_count": 4,
   "metadata": {},
   "outputs": [],
   "source": [
    "X=np.asarray(df.drop(\"Admission_Chance\",axis=1)) # exclude target variable in X\n",
    "Y=np.asarray(df[\"Admission_Chance\"]) #put traget variable in Y"
   ]
  },
  {
   "cell_type": "code",
   "execution_count": 6,
   "metadata": {},
   "outputs": [
    {
     "data": {
      "text/plain": [
       "array([[337.  , 118.  ,   4.  , ...,   4.5 ,   9.65,   1.  ],\n",
       "       [324.  , 107.  ,   4.  , ...,   4.5 ,   8.87,   1.  ],\n",
       "       [316.  , 104.  ,   3.  , ...,   3.5 ,   8.  ,   1.  ],\n",
       "       ...,\n",
       "       [330.  , 120.  ,   5.  , ...,   5.  ,   9.56,   1.  ],\n",
       "       [312.  , 103.  ,   4.  , ...,   5.  ,   8.43,   0.  ],\n",
       "       [327.  , 113.  ,   4.  , ...,   4.5 ,   9.04,   0.  ]])"
      ]
     },
     "execution_count": 6,
     "metadata": {},
     "output_type": "execute_result"
    }
   ],
   "source": [
    "X"
   ]
  },
  {
   "cell_type": "code",
   "execution_count": 8,
   "metadata": {
    "scrolled": true
   },
   "outputs": [
    {
     "data": {
      "text/plain": [
       "array([0.92, 0.76, 0.72, 0.8 , 0.65, 0.9 , 0.75, 0.68, 0.5 , 0.45, 0.52,\n",
       "       0.84, 0.78, 0.62, 0.61, 0.54, 0.66, 0.65, 0.63, 0.62, 0.64, 0.7 ,\n",
       "       0.94, 0.95, 0.97, 0.94, 0.76, 0.44, 0.46, 0.54, 0.65, 0.74, 0.91,\n",
       "       0.9 , 0.94, 0.88, 0.64, 0.58, 0.52, 0.48, 0.46, 0.49, 0.53, 0.87,\n",
       "       0.91, 0.88, 0.86, 0.89, 0.82, 0.78, 0.76, 0.56, 0.78, 0.72, 0.7 ,\n",
       "       0.64, 0.64, 0.46, 0.36, 0.42, 0.48, 0.47, 0.54, 0.56, 0.52, 0.55,\n",
       "       0.61, 0.57, 0.68, 0.78, 0.94, 0.96, 0.93, 0.84, 0.74, 0.72, 0.74,\n",
       "       0.64, 0.44, 0.46, 0.5 , 0.96, 0.92, 0.92, 0.94, 0.76, 0.72, 0.66,\n",
       "       0.64, 0.74, 0.64, 0.38, 0.34, 0.44, 0.36, 0.42, 0.48, 0.86, 0.9 ,\n",
       "       0.79, 0.71, 0.64, 0.62, 0.57, 0.74, 0.69, 0.87, 0.91, 0.93, 0.68,\n",
       "       0.61, 0.69, 0.62, 0.72, 0.59, 0.66, 0.56, 0.45, 0.47, 0.71, 0.94,\n",
       "       0.94, 0.57, 0.61, 0.57, 0.64, 0.85, 0.78, 0.84, 0.92, 0.96, 0.77,\n",
       "       0.71, 0.79, 0.89, 0.82, 0.76, 0.71, 0.8 , 0.78, 0.84, 0.9 , 0.92,\n",
       "       0.97, 0.8 , 0.81, 0.75, 0.83, 0.96, 0.79, 0.93, 0.94, 0.86, 0.79,\n",
       "       0.8 , 0.77, 0.7 , 0.65, 0.61, 0.52, 0.57, 0.53, 0.67, 0.68, 0.81,\n",
       "       0.78, 0.65, 0.64, 0.64, 0.65, 0.68, 0.89, 0.86, 0.89, 0.87, 0.85,\n",
       "       0.9 , 0.82, 0.72, 0.73, 0.71, 0.71, 0.68, 0.75, 0.72, 0.89, 0.84,\n",
       "       0.93, 0.93, 0.88, 0.9 , 0.87, 0.86, 0.94, 0.77, 0.78, 0.73, 0.73,\n",
       "       0.7 , 0.72, 0.73, 0.72, 0.97, 0.97, 0.69, 0.57, 0.63, 0.66, 0.64,\n",
       "       0.68, 0.79, 0.82, 0.95, 0.96, 0.94, 0.93, 0.91, 0.85, 0.84, 0.74,\n",
       "       0.76, 0.75, 0.76, 0.71, 0.67, 0.61, 0.63, 0.64, 0.71, 0.82, 0.73,\n",
       "       0.74, 0.69, 0.64, 0.91, 0.88, 0.85, 0.86, 0.7 , 0.59, 0.6 , 0.65,\n",
       "       0.7 , 0.76, 0.63, 0.81, 0.72, 0.71, 0.8 , 0.77, 0.74, 0.7 , 0.71,\n",
       "       0.93, 0.85, 0.79, 0.76, 0.78, 0.77, 0.9 , 0.87, 0.71, 0.7 , 0.7 ,\n",
       "       0.75, 0.71, 0.72, 0.73, 0.83, 0.77, 0.72, 0.54, 0.49, 0.52, 0.58,\n",
       "       0.78, 0.89, 0.7 , 0.66, 0.67, 0.68, 0.8 , 0.81, 0.8 , 0.94, 0.93,\n",
       "       0.92, 0.89, 0.82, 0.79, 0.58, 0.56, 0.56, 0.64, 0.61, 0.68, 0.76,\n",
       "       0.86, 0.9 , 0.71, 0.62, 0.66, 0.65, 0.73, 0.62, 0.74, 0.79, 0.8 ,\n",
       "       0.69, 0.7 , 0.76, 0.84, 0.78, 0.67, 0.66, 0.65, 0.54, 0.58, 0.79,\n",
       "       0.8 , 0.75, 0.73, 0.72, 0.62, 0.67, 0.81, 0.63, 0.69, 0.8 , 0.43,\n",
       "       0.8 , 0.73, 0.75, 0.71, 0.73, 0.83, 0.72, 0.94, 0.81, 0.81, 0.75,\n",
       "       0.79, 0.58, 0.59, 0.47, 0.49, 0.47, 0.42, 0.57, 0.62, 0.74, 0.73,\n",
       "       0.64, 0.63, 0.59, 0.73, 0.79, 0.68, 0.7 , 0.81, 0.85, 0.93, 0.91,\n",
       "       0.69, 0.77, 0.86, 0.74, 0.57, 0.51, 0.67, 0.72, 0.89, 0.95, 0.79,\n",
       "       0.39, 0.38, 0.34, 0.47, 0.56, 0.71, 0.78, 0.73, 0.82, 0.62, 0.96,\n",
       "       0.96, 0.46, 0.53, 0.49, 0.76, 0.64, 0.71, 0.84, 0.77, 0.89, 0.82,\n",
       "       0.84, 0.91, 0.67, 0.95, 0.63, 0.66, 0.78, 0.91, 0.62, 0.52, 0.61,\n",
       "       0.58, 0.57, 0.61, 0.54, 0.56, 0.59, 0.49, 0.72, 0.76, 0.65, 0.52,\n",
       "       0.6 , 0.58, 0.42, 0.77, 0.73, 0.94, 0.91, 0.92, 0.71, 0.71, 0.69,\n",
       "       0.95, 0.74, 0.73, 0.86, 0.71, 0.64, 0.55, 0.58, 0.61, 0.67, 0.66,\n",
       "       0.53, 0.79, 0.92, 0.87, 0.92, 0.91, 0.93, 0.84, 0.8 , 0.79, 0.82,\n",
       "       0.89, 0.93, 0.73, 0.71, 0.59, 0.51, 0.37, 0.69, 0.89, 0.77, 0.68,\n",
       "       0.62, 0.57, 0.45, 0.54, 0.71, 0.78, 0.81, 0.86, 0.87, 0.64, 0.9 ,\n",
       "       0.67, 0.67, 0.59, 0.62, 0.65, 0.71, 0.79, 0.8 , 0.78, 0.83, 0.71,\n",
       "       0.73, 0.7 , 0.68, 0.79, 0.76, 0.65, 0.67, 0.54, 0.53, 0.62, 0.68,\n",
       "       0.87, 0.96, 0.93, 0.73, 0.84])"
      ]
     },
     "execution_count": 8,
     "metadata": {},
     "output_type": "execute_result"
    }
   ],
   "source": [
    "Y"
   ]
  },
  {
   "cell_type": "code",
   "execution_count": 9,
   "metadata": {},
   "outputs": [],
   "source": [
    "# create train data for training and test data for testing the model\n",
    "X_train, X_test, y_train, y_test = train_test_split( X,Y, test_size=0.2, random_state=0)\n",
    "\n",
    "# scale the data to bring in a specific range\n",
    "scaler =  MinMaxScaler()\n",
    "X_train=scaler.fit_transform(X_train)\n",
    "X_test=scaler.fit_transform(X_test)"
   ]
  },
  {
   "cell_type": "markdown",
   "metadata": {},
   "source": [
    "# Model -1\n",
    "\n",
    "Build a first artificial neural network (ANN) model with four hidden layers. The hidden layers should have 128, 64, 32, and 16 neurons respectively, all using the ReLU activation function. The output layer should use a linear activation function since it is a regression problem."
   ]
  },
  {
   "cell_type": "code",
   "execution_count": 4,
   "metadata": {},
   "outputs": [],
   "source": [
    "# libraries for build ANN Model\n",
    "from keras.models import Sequential\n",
    "from keras.layers import Dense"
   ]
  },
  {
   "cell_type": "code",
   "execution_count": 11,
   "metadata": {
    "_uuid": "ff03b675eef5a407d95c2d49c07cfa0d4fb62426"
   },
   "outputs": [
    {
     "name": "stdout",
     "output_type": "stream",
     "text": [
      "Model: \"sequential\"\n",
      "_________________________________________________________________\n",
      " Layer (type)                Output Shape              Param #   \n",
      "=================================================================\n",
      " dense (Dense)               (None, 128)               1024      \n",
      "                                                                 \n",
      " dense_1 (Dense)             (None, 64)                8256      \n",
      "                                                                 \n",
      " dense_2 (Dense)             (None, 32)                2080      \n",
      "                                                                 \n",
      " dense_3 (Dense)             (None, 16)                528       \n",
      "                                                                 \n",
      " dense_4 (Dense)             (None, 1)                 17        \n",
      "                                                                 \n",
      "=================================================================\n",
      "Total params: 11,905\n",
      "Trainable params: 11,905\n",
      "Non-trainable params: 0\n",
      "_________________________________________________________________\n"
     ]
    }
   ],
   "source": [
    "# define base model\n",
    "def baseline_model():\n",
    "    # create model\n",
    "    model = Sequential() \n",
    "    model.add(Dense(128, input_dim=7, activation='relu')) #once assign input dimensions \n",
    "    model.add(Dense(64, activation='relu')) \n",
    "    model.add(Dense(32, activation='relu'))\n",
    "    model.add(Dense(16, activation='tanh'))\n",
    "    \n",
    "    model.add(Dense(1, activation='linear'))\n",
    "    # Compile model\n",
    "    model.compile(loss='mean_squared_error', optimizer='adam')\n",
    "    return model\n",
    "\n",
    "# Create the model\n",
    "model = baseline_model()\n",
    "model.summary()"
   ]
  },
  {
   "cell_type": "code",
   "execution_count": 12,
   "metadata": {
    "scrolled": true
   },
   "outputs": [
    {
     "name": "stdout",
     "output_type": "stream",
     "text": [
      "Epoch 1/100\n",
      "13/13 [==============================] - 1s 21ms/step - loss: 0.2106 - val_loss: 0.0288\n",
      "Epoch 2/100\n",
      "13/13 [==============================] - 0s 6ms/step - loss: 0.0297 - val_loss: 0.0156\n",
      "Epoch 3/100\n",
      "13/13 [==============================] - 0s 9ms/step - loss: 0.0093 - val_loss: 0.0071\n",
      "Epoch 4/100\n",
      "13/13 [==============================] - 0s 5ms/step - loss: 0.0057 - val_loss: 0.0097\n",
      "Epoch 5/100\n",
      "13/13 [==============================] - 0s 8ms/step - loss: 0.0045 - val_loss: 0.0084\n",
      "Epoch 6/100\n",
      "13/13 [==============================] - 0s 7ms/step - loss: 0.0041 - val_loss: 0.0079\n",
      "Epoch 7/100\n",
      "13/13 [==============================] - 0s 5ms/step - loss: 0.0038 - val_loss: 0.0077\n",
      "Epoch 8/100\n",
      "13/13 [==============================] - 0s 6ms/step - loss: 0.0037 - val_loss: 0.0071\n",
      "Epoch 9/100\n",
      "13/13 [==============================] - 0s 7ms/step - loss: 0.0036 - val_loss: 0.0072\n",
      "Epoch 10/100\n",
      "13/13 [==============================] - 0s 6ms/step - loss: 0.0035 - val_loss: 0.0077\n",
      "Epoch 11/100\n",
      "13/13 [==============================] - 0s 6ms/step - loss: 0.0035 - val_loss: 0.0083\n",
      "Epoch 12/100\n",
      "13/13 [==============================] - 0s 7ms/step - loss: 0.0035 - val_loss: 0.0076\n",
      "Epoch 13/100\n",
      "13/13 [==============================] - 0s 6ms/step - loss: 0.0034 - val_loss: 0.0069\n",
      "Epoch 14/100\n",
      "13/13 [==============================] - 0s 6ms/step - loss: 0.0034 - val_loss: 0.0070\n",
      "Epoch 15/100\n",
      "13/13 [==============================] - 0s 7ms/step - loss: 0.0033 - val_loss: 0.0066\n",
      "Epoch 16/100\n",
      "13/13 [==============================] - 0s 11ms/step - loss: 0.0034 - val_loss: 0.0068\n",
      "Epoch 17/100\n",
      "13/13 [==============================] - 0s 6ms/step - loss: 0.0033 - val_loss: 0.0069\n",
      "Epoch 18/100\n",
      "13/13 [==============================] - 0s 5ms/step - loss: 0.0033 - val_loss: 0.0065\n",
      "Epoch 19/100\n",
      "13/13 [==============================] - 0s 5ms/step - loss: 0.0033 - val_loss: 0.0065\n",
      "Epoch 20/100\n",
      "13/13 [==============================] - 0s 5ms/step - loss: 0.0033 - val_loss: 0.0069\n",
      "Epoch 21/100\n",
      "13/13 [==============================] - 0s 5ms/step - loss: 0.0032 - val_loss: 0.0071\n",
      "Epoch 22/100\n",
      "13/13 [==============================] - 0s 6ms/step - loss: 0.0031 - val_loss: 0.0067\n",
      "Epoch 23/100\n",
      "13/13 [==============================] - 0s 12ms/step - loss: 0.0031 - val_loss: 0.0073\n",
      "Epoch 24/100\n",
      "13/13 [==============================] - 0s 6ms/step - loss: 0.0032 - val_loss: 0.0071\n",
      "Epoch 25/100\n",
      "13/13 [==============================] - 0s 6ms/step - loss: 0.0031 - val_loss: 0.0075\n",
      "Epoch 26/100\n",
      "13/13 [==============================] - 0s 5ms/step - loss: 0.0031 - val_loss: 0.0074\n",
      "Epoch 27/100\n",
      "13/13 [==============================] - 0s 5ms/step - loss: 0.0030 - val_loss: 0.0084\n",
      "Epoch 28/100\n",
      "13/13 [==============================] - 0s 5ms/step - loss: 0.0031 - val_loss: 0.0081\n",
      "Epoch 29/100\n",
      "13/13 [==============================] - 0s 5ms/step - loss: 0.0031 - val_loss: 0.0077\n",
      "Epoch 30/100\n",
      "13/13 [==============================] - 0s 6ms/step - loss: 0.0031 - val_loss: 0.0070\n",
      "Epoch 31/100\n",
      "13/13 [==============================] - 0s 7ms/step - loss: 0.0031 - val_loss: 0.0066\n",
      "Epoch 32/100\n",
      "13/13 [==============================] - 0s 5ms/step - loss: 0.0030 - val_loss: 0.0068\n",
      "Epoch 33/100\n",
      "13/13 [==============================] - 0s 5ms/step - loss: 0.0031 - val_loss: 0.0068\n",
      "Epoch 34/100\n",
      "13/13 [==============================] - 0s 5ms/step - loss: 0.0031 - val_loss: 0.0073\n",
      "Epoch 35/100\n",
      "13/13 [==============================] - 0s 6ms/step - loss: 0.0031 - val_loss: 0.0081\n",
      "Epoch 36/100\n",
      "13/13 [==============================] - 0s 5ms/step - loss: 0.0031 - val_loss: 0.0088\n",
      "Epoch 37/100\n",
      "13/13 [==============================] - 0s 5ms/step - loss: 0.0031 - val_loss: 0.0082\n",
      "Epoch 38/100\n",
      "13/13 [==============================] - 0s 7ms/step - loss: 0.0029 - val_loss: 0.0067\n",
      "Epoch 39/100\n",
      "13/13 [==============================] - 0s 5ms/step - loss: 0.0031 - val_loss: 0.0064\n",
      "Epoch 40/100\n",
      "13/13 [==============================] - 0s 6ms/step - loss: 0.0029 - val_loss: 0.0073\n",
      "Epoch 41/100\n",
      "13/13 [==============================] - 0s 5ms/step - loss: 0.0028 - val_loss: 0.0078\n",
      "Epoch 42/100\n",
      "13/13 [==============================] - 0s 9ms/step - loss: 0.0028 - val_loss: 0.0080\n",
      "Epoch 43/100\n",
      "13/13 [==============================] - 0s 6ms/step - loss: 0.0028 - val_loss: 0.0077\n",
      "Epoch 44/100\n",
      "13/13 [==============================] - 0s 6ms/step - loss: 0.0028 - val_loss: 0.0072\n",
      "Epoch 45/100\n",
      "13/13 [==============================] - 0s 5ms/step - loss: 0.0029 - val_loss: 0.0080\n",
      "Epoch 46/100\n",
      "13/13 [==============================] - 0s 7ms/step - loss: 0.0029 - val_loss: 0.0071\n",
      "Epoch 47/100\n",
      "13/13 [==============================] - 0s 6ms/step - loss: 0.0028 - val_loss: 0.0084\n",
      "Epoch 48/100\n",
      "13/13 [==============================] - 0s 5ms/step - loss: 0.0028 - val_loss: 0.0076\n",
      "Epoch 49/100\n",
      "13/13 [==============================] - 0s 7ms/step - loss: 0.0028 - val_loss: 0.0067\n",
      "Epoch 50/100\n",
      "13/13 [==============================] - 0s 5ms/step - loss: 0.0028 - val_loss: 0.0080\n",
      "Epoch 51/100\n",
      "13/13 [==============================] - 0s 9ms/step - loss: 0.0027 - val_loss: 0.0065\n",
      "Epoch 52/100\n",
      "13/13 [==============================] - 0s 5ms/step - loss: 0.0029 - val_loss: 0.0086\n",
      "Epoch 53/100\n",
      "13/13 [==============================] - 0s 6ms/step - loss: 0.0029 - val_loss: 0.0086\n",
      "Epoch 54/100\n",
      "13/13 [==============================] - 0s 5ms/step - loss: 0.0028 - val_loss: 0.0070\n",
      "Epoch 55/100\n",
      "13/13 [==============================] - 0s 6ms/step - loss: 0.0027 - val_loss: 0.0069\n",
      "Epoch 56/100\n",
      "13/13 [==============================] - ETA: 0s - loss: 0.002 - 0s 6ms/step - loss: 0.0030 - val_loss: 0.0076\n",
      "Epoch 57/100\n",
      "13/13 [==============================] - 0s 5ms/step - loss: 0.0032 - val_loss: 0.0098\n",
      "Epoch 58/100\n",
      "13/13 [==============================] - 0s 12ms/step - loss: 0.0028 - val_loss: 0.0075\n",
      "Epoch 59/100\n",
      "13/13 [==============================] - 0s 5ms/step - loss: 0.0027 - val_loss: 0.0080\n",
      "Epoch 60/100\n",
      "13/13 [==============================] - 0s 5ms/step - loss: 0.0027 - val_loss: 0.0077\n",
      "Epoch 61/100\n",
      "13/13 [==============================] - 0s 5ms/step - loss: 0.0027 - val_loss: 0.0072\n",
      "Epoch 62/100\n",
      "13/13 [==============================] - 0s 5ms/step - loss: 0.0026 - val_loss: 0.0077\n",
      "Epoch 63/100\n",
      "13/13 [==============================] - 0s 5ms/step - loss: 0.0029 - val_loss: 0.0084\n",
      "Epoch 64/100\n",
      "13/13 [==============================] - 0s 5ms/step - loss: 0.0031 - val_loss: 0.0102\n",
      "Epoch 65/100\n",
      "13/13 [==============================] - 0s 5ms/step - loss: 0.0027 - val_loss: 0.0086\n",
      "Epoch 66/100\n",
      "13/13 [==============================] - 0s 5ms/step - loss: 0.0026 - val_loss: 0.0084\n",
      "Epoch 67/100\n",
      "13/13 [==============================] - 0s 5ms/step - loss: 0.0026 - val_loss: 0.0077\n",
      "Epoch 68/100\n",
      "13/13 [==============================] - 0s 6ms/step - loss: 0.0025 - val_loss: 0.0083\n",
      "Epoch 69/100\n",
      "13/13 [==============================] - 0s 6ms/step - loss: 0.0030 - val_loss: 0.0065\n",
      "Epoch 70/100\n",
      "13/13 [==============================] - 0s 5ms/step - loss: 0.0028 - val_loss: 0.0076\n",
      "Epoch 71/100\n",
      "13/13 [==============================] - 0s 5ms/step - loss: 0.0027 - val_loss: 0.0094\n",
      "Epoch 72/100\n",
      "13/13 [==============================] - 0s 5ms/step - loss: 0.0028 - val_loss: 0.0122\n",
      "Epoch 73/100\n",
      "13/13 [==============================] - 0s 5ms/step - loss: 0.0032 - val_loss: 0.0093\n",
      "Epoch 74/100\n",
      "13/13 [==============================] - 0s 5ms/step - loss: 0.0028 - val_loss: 0.0068\n",
      "Epoch 75/100\n",
      "13/13 [==============================] - 0s 5ms/step - loss: 0.0028 - val_loss: 0.0070\n",
      "Epoch 76/100\n",
      "13/13 [==============================] - 0s 5ms/step - loss: 0.0028 - val_loss: 0.0092\n",
      "Epoch 77/100\n",
      "13/13 [==============================] - 0s 5ms/step - loss: 0.0025 - val_loss: 0.0092\n",
      "Epoch 78/100\n",
      "13/13 [==============================] - 0s 5ms/step - loss: 0.0025 - val_loss: 0.0088\n",
      "Epoch 79/100\n",
      "13/13 [==============================] - 0s 5ms/step - loss: 0.0025 - val_loss: 0.0100\n",
      "Epoch 80/100\n",
      "13/13 [==============================] - 0s 6ms/step - loss: 0.0028 - val_loss: 0.0072\n",
      "Epoch 81/100\n",
      "13/13 [==============================] - 0s 5ms/step - loss: 0.0026 - val_loss: 0.0083\n",
      "Epoch 82/100\n",
      "13/13 [==============================] - 0s 10ms/step - loss: 0.0026 - val_loss: 0.0084\n",
      "Epoch 83/100\n",
      "13/13 [==============================] - 0s 6ms/step - loss: 0.0026 - val_loss: 0.0086\n",
      "Epoch 84/100\n",
      "13/13 [==============================] - 0s 7ms/step - loss: 0.0026 - val_loss: 0.0076\n",
      "Epoch 85/100\n",
      "13/13 [==============================] - 0s 5ms/step - loss: 0.0027 - val_loss: 0.0076\n",
      "Epoch 86/100\n",
      "13/13 [==============================] - 0s 5ms/step - loss: 0.0025 - val_loss: 0.0087\n",
      "Epoch 87/100\n",
      "13/13 [==============================] - 0s 7ms/step - loss: 0.0026 - val_loss: 0.0074\n",
      "Epoch 88/100\n",
      "13/13 [==============================] - 0s 5ms/step - loss: 0.0028 - val_loss: 0.0093\n",
      "Epoch 89/100\n",
      "13/13 [==============================] - 0s 7ms/step - loss: 0.0025 - val_loss: 0.0085\n",
      "Epoch 90/100\n",
      "13/13 [==============================] - 0s 5ms/step - loss: 0.0025 - val_loss: 0.0095\n",
      "Epoch 91/100\n",
      "13/13 [==============================] - 0s 9ms/step - loss: 0.0025 - val_loss: 0.0093\n",
      "Epoch 92/100\n",
      "13/13 [==============================] - 0s 5ms/step - loss: 0.0026 - val_loss: 0.0086\n",
      "Epoch 93/100\n",
      "13/13 [==============================] - 0s 6ms/step - loss: 0.0025 - val_loss: 0.0090\n",
      "Epoch 94/100\n",
      "13/13 [==============================] - 0s 5ms/step - loss: 0.0024 - val_loss: 0.0099\n",
      "Epoch 95/100\n",
      "13/13 [==============================] - 0s 5ms/step - loss: 0.0028 - val_loss: 0.0076\n",
      "Epoch 96/100\n",
      "13/13 [==============================] - 0s 5ms/step - loss: 0.0025 - val_loss: 0.0090\n",
      "Epoch 97/100\n",
      "13/13 [==============================] - 0s 6ms/step - loss: 0.0024 - val_loss: 0.0077\n",
      "Epoch 98/100\n",
      "13/13 [==============================] - 0s 5ms/step - loss: 0.0027 - val_loss: 0.0111\n",
      "Epoch 99/100\n",
      "13/13 [==============================] - 0s 5ms/step - loss: 0.0027 - val_loss: 0.0107\n",
      "Epoch 100/100\n",
      "13/13 [==============================] - 0s 9ms/step - loss: 0.0025 - val_loss: 0.0073\n"
     ]
    }
   ],
   "source": [
    "# train your 1st ANN Model with 100 Epoch and batch-size = 32\n",
    "history = model.fit(X_train, y_train, epochs=100, batch_size=32, validation_data=(X_test,y_test))"
   ]
  },
  {
   "cell_type": "code",
   "execution_count": 13,
   "metadata": {},
   "outputs": [
    {
     "name": "stdout",
     "output_type": "stream",
     "text": [
      "🎉 Hurray! You've completed your first ANN training! 🎉\n"
     ]
    }
   ],
   "source": [
    "print(\"🎉 Hurray! You've completed your first ANN training! 🎉\")"
   ]
  },
  {
   "cell_type": "markdown",
   "metadata": {},
   "source": [
    "### Now time for testing"
   ]
  },
  {
   "cell_type": "code",
   "execution_count": 15,
   "metadata": {
    "_uuid": "208994294640e4051e29d8d7a30def4d821b2527"
   },
   "outputs": [
    {
     "data": {
      "image/png": "[encoded data removed]",
      "text/plain": [
       "<Figure size 432x288 with 1 Axes>"
      ]
     },
     "metadata": {
      "needs_background": "light"
     },
     "output_type": "display_data"
    }
   ],
   "source": [
    "# Plot training & validation loss values\n",
    "plt.plot(history.history['loss'])\n",
    "\n",
    "plt.title('Model loss')\n",
    "plt.ylabel('Loss')\n",
    "plt.xlabel('Epoch')\n",
    "plt.legend(['Train', 'Test'], loc='upper left')\n",
    "plt.show()"
   ]
  },
  {
   "cell_type": "markdown",
   "metadata": {},
   "source": [
    "## Performance"
   ]
  },
  {
   "cell_type": "code",
   "execution_count": 17,
   "metadata": {},
   "outputs": [],
   "source": [
    "from sklearn.metrics import mean_absolute_error, mean_squared_error, r2_score"
   ]
  },
  {
   "cell_type": "code",
   "execution_count": 18,
   "metadata": {
    "_uuid": "5b10d644bcb2fdeb86c76d5c3ab5972ae31ff464"
   },
   "outputs": [
    {
     "name": "stdout",
     "output_type": "stream",
     "text": [
      "Mean Squared Error (MSE): 0.007334177744153224\n",
      "Root Mean Squared Error (RMSE): 0.08563981401283649\n",
      "Mean Absolute Error (MAE): 0.0650648251891136\n",
      "R-squared (R2): 0.5800582462300792\n"
     ]
    }
   ],
   "source": [
    "# predict the test data\n",
    "prediction = model.predict(X_test)\n",
    "\n",
    "# Calculate regression metrics\n",
    "mse = mean_squared_error(y_test, prediction) \n",
    "rmse = np.sqrt(mse)\n",
    "mae = mean_absolute_error(y_test, prediction)\n",
    "r2 = r2_score(y_test, prediction)\n",
    "\n",
    "# Print regression metrics\n",
    "print(f\"Mean Squared Error (MSE): {mse}\")\n",
    "print(f\"Root Mean Squared Error (RMSE): {rmse}\")\n",
    "print(f\"Mean Absolute Error (MAE): {mae}\")\n",
    "print(f\"R-squared (R2): {r2}\")"
   ]
  },
  {
   "cell_type": "code",
   "execution_count": 22,
   "metadata": {},
   "outputs": [
    {
     "name": "stdout",
     "output_type": "stream",
     "text": [
      "Task done-zo! Now, let's tackle Q1 - the next stop on our data science rollercoaster! 🎢\n"
     ]
    }
   ],
   "source": [
    "print(\"Task done-zo! Now, let's tackle Q1 - the next stop on our data science rollercoaster! 🎢\")"
   ]
  },
  {
   "cell_type": "markdown",
   "metadata": {},
   "source": [
    "### Q1. As here Apply for Adam you should apply other optimiser such as SGD, RMSProp, Adadelta, Adagrad and Compare the perfromance of each optimisers.\n",
    "\n",
    "https://keras.io/api/optimizers/"
   ]
  },
  {
   "cell_type": "markdown",
   "metadata": {},
   "source": [
    "## Model -2\n",
    "\n",
    "Build another artificial neural network (ANN) model with five hidden layers. The hidden layers should have 256, 128, 64, 32, and 16 neurons respectively, all using the ReLU activation function with l2 regularization, dropout and Batch normalization. The output layer should use a linear activation function since it is a regression problem."
   ]
  },
  {
   "cell_type": "code",
   "execution_count": 23,
   "metadata": {},
   "outputs": [],
   "source": [
    "from tensorflow.keras.layers import Dense, Dropout, BatchNormalization\n",
    "from tensorflow.keras.regularizers import l2"
   ]
  },
  {
   "cell_type": "code",
   "execution_count": 24,
   "metadata": {
    "scrolled": true
   },
   "outputs": [
    {
     "name": "stdout",
     "output_type": "stream",
     "text": [
      "Model: \"sequential_1\"\n",
      "_________________________________________________________________\n",
      " Layer (type)                Output Shape              Param #   \n",
      "=================================================================\n",
      " dense_5 (Dense)             (None, 256)               2048      \n",
      "                                                                 \n",
      " batch_normalization (BatchN  (None, 256)              1024      \n",
      " ormalization)                                                   \n",
      "                                                                 \n",
      " dropout (Dropout)           (None, 256)               0         \n",
      "                                                                 \n",
      " dense_6 (Dense)             (None, 128)               32896     \n",
      "                                                                 \n",
      " batch_normalization_1 (Batc  (None, 128)              512       \n",
      " hNormalization)                                                 \n",
      "                                                                 \n",
      " dropout_1 (Dropout)         (None, 128)               0         \n",
      "                                                                 \n",
      " dense_7 (Dense)             (None, 64)                8256      \n",
      "                                                                 \n",
      " batch_normalization_2 (Batc  (None, 64)               256       \n",
      " hNormalization)                                                 \n",
      "                                                                 \n",
      " dropout_2 (Dropout)         (None, 64)                0         \n",
      "                                                                 \n",
      " dense_8 (Dense)             (None, 32)                2080      \n",
      "                                                                 \n",
      " batch_normalization_3 (Batc  (None, 32)               128       \n",
      " hNormalization)                                                 \n",
      "                                                                 \n",
      " dropout_3 (Dropout)         (None, 32)                0         \n",
      "                                                                 \n",
      " dense_9 (Dense)             (None, 16)                528       \n",
      "                                                                 \n",
      " batch_normalization_4 (Batc  (None, 16)               64        \n",
      " hNormalization)                                                 \n",
      "                                                                 \n",
      " dropout_4 (Dropout)         (None, 16)                0         \n",
      "                                                                 \n",
      " dense_10 (Dense)            (None, 1)                 17        \n",
      "                                                                 \n",
      "=================================================================\n",
      "Total params: 47,809\n",
      "Trainable params: 46,817\n",
      "Non-trainable params: 992\n",
      "_________________________________________________________________\n"
     ]
    }
   ],
   "source": [
    "# Define the model with L2 regularization, dropout, and batch normalization\n",
    "def baseline_model2():\n",
    "    # Create model\n",
    "    model = Sequential()\n",
    "    model.add(Dense(256, input_dim=7, activation='relu', kernel_regularizer=l2(0.01)))  # Input layer with L2 regularization\n",
    "    model.add(BatchNormalization())\n",
    "    model.add(Dropout(0.5))\n",
    "\n",
    "    model.add(Dense(128, activation='relu', kernel_regularizer=l2(0.01)))  # Hidden layer 1 with L2 regularization\n",
    "    model.add(BatchNormalization())\n",
    "    model.add(Dropout(0.5))\n",
    "\n",
    "    model.add(Dense(64, activation='relu', kernel_regularizer=l2(0.01)))  # Hidden layer 2 with L2 regularization\n",
    "    model.add(BatchNormalization())\n",
    "    model.add(Dropout(0.5))\n",
    "\n",
    "    model.add(Dense(32, activation='relu', kernel_regularizer=l2(0.01)))  # Hidden layer 3 with L2 regularization\n",
    "    model.add(BatchNormalization())\n",
    "    model.add(Dropout(0.5))\n",
    "\n",
    "    model.add(Dense(16, activation='tanh', kernel_regularizer=l2(0.01)))  # Hidden layer 4 with L2 regularization\n",
    "    model.add(BatchNormalization())\n",
    "    model.add(Dropout(0.5))\n",
    "\n",
    "    model.add(Dense(1, activation='linear'))  # Output layer\n",
    "\n",
    "    # Compile model\n",
    "    model.compile(loss='mean_squared_error', optimizer='adam')\n",
    "    return model\n",
    "\n",
    "# Create the model\n",
    "model2 = baseline_model2()\n",
    "model2.summary()"
   ]
  },
  {
   "cell_type": "code",
   "execution_count": 25,
   "metadata": {
    "scrolled": true
   },
   "outputs": [
    {
     "name": "stdout",
     "output_type": "stream",
     "text": [
      "Epoch 1/100\n",
      "13/13 [==============================] - 4s 47ms/step - loss: 7.7545 - val_loss: 3.6621\n",
      "Epoch 2/100\n",
      "13/13 [==============================] - 0s 10ms/step - loss: 6.5667 - val_loss: 3.5219\n",
      "Epoch 3/100\n",
      "13/13 [==============================] - 0s 10ms/step - loss: 6.4837 - val_loss: 3.4102\n",
      "Epoch 4/100\n",
      "13/13 [==============================] - 0s 11ms/step - loss: 5.9226 - val_loss: 3.3172\n",
      "Epoch 5/100\n",
      "13/13 [==============================] - 0s 10ms/step - loss: 5.5708 - val_loss: 3.2546\n",
      "Epoch 6/100\n",
      "13/13 [==============================] - 0s 10ms/step - loss: 5.0794 - val_loss: 3.1957\n",
      "Epoch 7/100\n",
      "13/13 [==============================] - 0s 10ms/step - loss: 5.1461 - val_loss: 3.1363\n",
      "Epoch 8/100\n",
      "13/13 [==============================] - 0s 11ms/step - loss: 4.8943 - val_loss: 3.0996\n",
      "Epoch 9/100\n",
      "13/13 [==============================] - 0s 11ms/step - loss: 4.7429 - val_loss: 3.0584\n",
      "Epoch 10/100\n",
      "13/13 [==============================] - 0s 18ms/step - loss: 4.5202 - val_loss: 3.0194\n",
      "Epoch 11/100\n",
      "13/13 [==============================] - 0s 15ms/step - loss: 4.2896 - val_loss: 2.9837\n",
      "Epoch 12/100\n",
      "13/13 [==============================] - 0s 12ms/step - loss: 4.1546 - val_loss: 2.9532\n",
      "Epoch 13/100\n",
      "13/13 [==============================] - 0s 12ms/step - loss: 4.1367 - val_loss: 2.9243\n",
      "Epoch 14/100\n",
      "13/13 [==============================] - 0s 12ms/step - loss: 3.9584 - val_loss: 2.9008\n",
      "Epoch 15/100\n",
      "13/13 [==============================] - 0s 11ms/step - loss: 3.9471 - val_loss: 2.8739\n",
      "Epoch 16/100\n",
      "13/13 [==============================] - 0s 10ms/step - loss: 3.8028 - val_loss: 2.8455\n",
      "Epoch 17/100\n",
      "13/13 [==============================] - 0s 11ms/step - loss: 3.7950 - val_loss: 2.8295\n",
      "Epoch 18/100\n",
      "13/13 [==============================] - 0s 11ms/step - loss: 3.7679 - val_loss: 2.8090\n",
      "Epoch 19/100\n",
      "13/13 [==============================] - 0s 10ms/step - loss: 3.6789 - val_loss: 2.7912\n",
      "Epoch 20/100\n",
      "13/13 [==============================] - 0s 11ms/step - loss: 3.5416 - val_loss: 2.7728\n",
      "Epoch 21/100\n",
      "13/13 [==============================] - 0s 11ms/step - loss: 3.5452 - val_loss: 2.7552\n",
      "Epoch 22/100\n",
      "13/13 [==============================] - 0s 11ms/step - loss: 3.4275 - val_loss: 2.7400\n",
      "Epoch 23/100\n",
      "13/13 [==============================] - 0s 11ms/step - loss: 3.4443 - val_loss: 2.7247\n",
      "Epoch 24/100\n",
      "13/13 [==============================] - 0s 9ms/step - loss: 3.3660 - val_loss: 2.7093\n",
      "Epoch 25/100\n",
      "13/13 [==============================] - 0s 12ms/step - loss: 3.3416 - val_loss: 2.6933\n",
      "Epoch 26/100\n",
      "13/13 [==============================] - 0s 11ms/step - loss: 3.2814 - val_loss: 2.6777\n",
      "Epoch 27/100\n",
      "13/13 [==============================] - 0s 11ms/step - loss: 3.2134 - val_loss: 2.6631\n",
      "Epoch 28/100\n",
      "13/13 [==============================] - 0s 10ms/step - loss: 3.1926 - val_loss: 2.6486\n",
      "Epoch 29/100\n",
      "13/13 [==============================] - 0s 12ms/step - loss: 3.1288 - val_loss: 2.6345\n",
      "Epoch 30/100\n",
      "13/13 [==============================] - 0s 11ms/step - loss: 3.1094 - val_loss: 2.6207\n",
      "Epoch 31/100\n",
      "13/13 [==============================] - 0s 17ms/step - loss: 3.0269 - val_loss: 2.6066\n",
      "Epoch 32/100\n",
      "13/13 [==============================] - 0s 11ms/step - loss: 3.0576 - val_loss: 2.5920\n",
      "Epoch 33/100\n",
      "13/13 [==============================] - 0s 10ms/step - loss: 2.9774 - val_loss: 2.5782\n",
      "Epoch 34/100\n",
      "13/13 [==============================] - 0s 10ms/step - loss: 3.0047 - val_loss: 2.5633\n",
      "Epoch 35/100\n",
      "13/13 [==============================] - 0s 11ms/step - loss: 2.8717 - val_loss: 2.5477\n",
      "Epoch 36/100\n",
      "13/13 [==============================] - 0s 9ms/step - loss: 2.9210 - val_loss: 2.5322\n",
      "Epoch 37/100\n",
      "13/13 [==============================] - 0s 8ms/step - loss: 2.8549 - val_loss: 2.5172\n",
      "Epoch 38/100\n",
      "13/13 [==============================] - 0s 10ms/step - loss: 2.8244 - val_loss: 2.5014\n",
      "Epoch 39/100\n",
      "13/13 [==============================] - 0s 10ms/step - loss: 2.8179 - val_loss: 2.4860\n",
      "Epoch 40/100\n",
      "13/13 [==============================] - 0s 8ms/step - loss: 2.7946 - val_loss: 2.4708\n",
      "Epoch 41/100\n",
      "13/13 [==============================] - 0s 8ms/step - loss: 2.7607 - val_loss: 2.4551\n",
      "Epoch 42/100\n",
      "13/13 [==============================] - 0s 8ms/step - loss: 2.7039 - val_loss: 2.4402\n",
      "Epoch 43/100\n",
      "13/13 [==============================] - 0s 10ms/step - loss: 2.6942 - val_loss: 2.4256\n",
      "Epoch 44/100\n",
      "13/13 [==============================] - 0s 18ms/step - loss: 2.6837 - val_loss: 2.4102\n",
      "Epoch 45/100\n",
      "13/13 [==============================] - 0s 10ms/step - loss: 2.6165 - val_loss: 2.3943\n",
      "Epoch 46/100\n",
      "13/13 [==============================] - 0s 11ms/step - loss: 2.6094 - val_loss: 2.3780\n",
      "Epoch 47/100\n",
      "13/13 [==============================] - 0s 12ms/step - loss: 2.6367 - val_loss: 2.3616\n",
      "Epoch 48/100\n",
      "13/13 [==============================] - 0s 10ms/step - loss: 2.5646 - val_loss: 2.3452\n",
      "Epoch 49/100\n",
      "13/13 [==============================] - 0s 10ms/step - loss: 2.5305 - val_loss: 2.3293\n",
      "Epoch 50/100\n",
      "13/13 [==============================] - 0s 10ms/step - loss: 2.5156 - val_loss: 2.3141\n",
      "Epoch 51/100\n",
      "13/13 [==============================] - 0s 13ms/step - loss: 2.5026 - val_loss: 2.2984\n",
      "Epoch 52/100\n",
      "13/13 [==============================] - 0s 11ms/step - loss: 2.4652 - val_loss: 2.2822\n",
      "Epoch 53/100\n",
      "13/13 [==============================] - 0s 12ms/step - loss: 2.4491 - val_loss: 2.2659\n",
      "Epoch 54/100\n",
      "13/13 [==============================] - 0s 10ms/step - loss: 2.4321 - val_loss: 2.2494\n",
      "Epoch 55/100\n",
      "13/13 [==============================] - 0s 17ms/step - loss: 2.4034 - val_loss: 2.2331\n",
      "Epoch 56/100\n",
      "13/13 [==============================] - 0s 10ms/step - loss: 2.3911 - val_loss: 2.2167\n",
      "Epoch 57/100\n",
      "13/13 [==============================] - 0s 13ms/step - loss: 2.3741 - val_loss: 2.2004\n",
      "Epoch 58/100\n",
      "13/13 [==============================] - 0s 11ms/step - loss: 2.3439 - val_loss: 2.1842\n",
      "Epoch 59/100\n",
      "13/13 [==============================] - 0s 10ms/step - loss: 2.3158 - val_loss: 2.1682\n",
      "Epoch 60/100\n",
      "13/13 [==============================] - 0s 10ms/step - loss: 2.2993 - val_loss: 2.1517\n",
      "Epoch 61/100\n",
      "13/13 [==============================] - 0s 11ms/step - loss: 2.2553 - val_loss: 2.1355\n",
      "Epoch 62/100\n",
      "13/13 [==============================] - 0s 15ms/step - loss: 2.2444 - val_loss: 2.1193\n",
      "Epoch 63/100\n",
      "13/13 [==============================] - 0s 11ms/step - loss: 2.2290 - val_loss: 2.1032\n",
      "Epoch 64/100\n",
      "13/13 [==============================] - 0s 13ms/step - loss: 2.1995 - val_loss: 2.0870\n",
      "Epoch 65/100\n",
      "13/13 [==============================] - 0s 12ms/step - loss: 2.1997 - val_loss: 2.0708\n",
      "Epoch 66/100\n",
      "13/13 [==============================] - 0s 15ms/step - loss: 2.1655 - val_loss: 2.0546\n",
      "Epoch 67/100\n",
      "13/13 [==============================] - 0s 9ms/step - loss: 2.1505 - val_loss: 2.0384\n",
      "Epoch 68/100\n",
      "13/13 [==============================] - 0s 8ms/step - loss: 2.1298 - val_loss: 2.0214\n",
      "Epoch 69/100\n",
      "13/13 [==============================] - 0s 10ms/step - loss: 2.1058 - val_loss: 2.0046\n",
      "Epoch 70/100\n",
      "13/13 [==============================] - 0s 8ms/step - loss: 2.0837 - val_loss: 1.9880\n",
      "Epoch 71/100\n",
      "13/13 [==============================] - 0s 9ms/step - loss: 2.0755 - val_loss: 1.9716\n",
      "Epoch 72/100\n",
      "13/13 [==============================] - 0s 10ms/step - loss: 2.0543 - val_loss: 1.9550\n",
      "Epoch 73/100\n",
      "13/13 [==============================] - 0s 9ms/step - loss: 2.0280 - val_loss: 1.9388\n",
      "Epoch 74/100\n",
      "13/13 [==============================] - 0s 9ms/step - loss: 2.0141 - val_loss: 1.9230\n",
      "Epoch 75/100\n",
      "13/13 [==============================] - 0s 10ms/step - loss: 1.9953 - val_loss: 1.9068\n",
      "Epoch 76/100\n",
      "13/13 [==============================] - 0s 8ms/step - loss: 1.9823 - val_loss: 1.8902\n",
      "Epoch 77/100\n",
      "13/13 [==============================] - 0s 9ms/step - loss: 1.9525 - val_loss: 1.8739\n",
      "Epoch 78/100\n",
      "13/13 [==============================] - 0s 9ms/step - loss: 1.9369 - val_loss: 1.8575\n",
      "Epoch 79/100\n",
      "13/13 [==============================] - 0s 9ms/step - loss: 1.9156 - val_loss: 1.8414\n",
      "Epoch 80/100\n",
      "13/13 [==============================] - 0s 15ms/step - loss: 1.8989 - val_loss: 1.8254\n",
      "Epoch 81/100\n",
      "13/13 [==============================] - 0s 12ms/step - loss: 1.8772 - val_loss: 1.8094\n",
      "Epoch 82/100\n",
      "13/13 [==============================] - 0s 11ms/step - loss: 1.8657 - val_loss: 1.7931\n",
      "Epoch 83/100\n",
      "13/13 [==============================] - 0s 10ms/step - loss: 1.8449 - val_loss: 1.7768\n",
      "Epoch 84/100\n",
      "13/13 [==============================] - 0s 10ms/step - loss: 1.8249 - val_loss: 1.7607\n",
      "Epoch 85/100\n",
      "13/13 [==============================] - 0s 10ms/step - loss: 1.8089 - val_loss: 1.7443\n",
      "Epoch 86/100\n",
      "13/13 [==============================] - 0s 9ms/step - loss: 1.7863 - val_loss: 1.7279\n",
      "Epoch 87/100\n",
      "13/13 [==============================] - 0s 9ms/step - loss: 1.7712 - val_loss: 1.7117\n",
      "Epoch 88/100\n",
      "13/13 [==============================] - 0s 9ms/step - loss: 1.7516 - val_loss: 1.6957\n",
      "Epoch 89/100\n",
      "13/13 [==============================] - 0s 9ms/step - loss: 1.7388 - val_loss: 1.6795\n",
      "Epoch 90/100\n",
      "13/13 [==============================] - 0s 10ms/step - loss: 1.7183 - val_loss: 1.6634\n",
      "Epoch 91/100\n",
      "13/13 [==============================] - 0s 11ms/step - loss: 1.7001 - val_loss: 1.6473\n",
      "Epoch 92/100\n",
      "13/13 [==============================] - 0s 13ms/step - loss: 1.6865 - val_loss: 1.6312\n",
      "Epoch 93/100\n",
      "13/13 [==============================] - 0s 9ms/step - loss: 1.6621 - val_loss: 1.6154\n",
      "Epoch 94/100\n",
      "13/13 [==============================] - 0s 11ms/step - loss: 1.6444 - val_loss: 1.5995\n",
      "Epoch 95/100\n",
      "13/13 [==============================] - 0s 8ms/step - loss: 1.6326 - val_loss: 1.5837\n",
      "Epoch 96/100\n",
      "13/13 [==============================] - 0s 9ms/step - loss: 1.6117 - val_loss: 1.5680\n",
      "Epoch 97/100\n",
      "13/13 [==============================] - 0s 9ms/step - loss: 1.6001 - val_loss: 1.5524\n",
      "Epoch 98/100\n",
      "13/13 [==============================] - 0s 8ms/step - loss: 1.5759 - val_loss: 1.5367\n",
      "Epoch 99/100\n",
      "13/13 [==============================] - 0s 8ms/step - loss: 1.5615 - val_loss: 1.5213\n",
      "Epoch 100/100\n",
      "13/13 [==============================] - 0s 8ms/step - loss: 1.5444 - val_loss: 1.5057\n"
     ]
    }
   ],
   "source": [
    "history = model2.fit(X_train, y_train, epochs=100, batch_size=32, validation_data=(X_test,y_test))"
   ]
  },
  {
   "cell_type": "code",
   "execution_count": 26,
   "metadata": {},
   "outputs": [],
   "source": [
    "from sklearn.metrics import mean_absolute_error, mean_squared_error, r2_score"
   ]
  },
  {
   "cell_type": "code",
   "execution_count": 27,
   "metadata": {},
   "outputs": [],
   "source": [
    "prediction = model2.predict(X_test)"
   ]
  },
  {
   "cell_type": "code",
   "execution_count": 28,
   "metadata": {},
   "outputs": [
    {
     "name": "stdout",
     "output_type": "stream",
     "text": [
      "Mean Squared Error (MSE): 0.0070317002568784405\n",
      "Root Mean Squared Error (RMSE): 0.08385523392656204\n",
      "Mean Absolute Error (MAE): 0.06972641990184783\n",
      "R-squared (R2): 0.5973775601209041\n"
     ]
    }
   ],
   "source": [
    "# Calculate regression metrics\n",
    "mse = mean_squared_error(y_test, prediction)\n",
    "rmse = np.sqrt(mse)\n",
    "mae = mean_absolute_error(y_test, prediction)\n",
    "r2 = r2_score(y_test, prediction)\n",
    "\n",
    "# Print regression metrics\n",
    "print(f\"Mean Squared Error (MSE): {mse}\")\n",
    "print(f\"Root Mean Squared Error (RMSE): {rmse}\")\n",
    "print(f\"Mean Absolute Error (MAE): {mae}\")\n",
    "print(f\"R-squared (R2): {r2}\")"
   ]
  },
  {
   "cell_type": "markdown",
   "metadata": {},
   "source": [
    "### Q2. Here also apply other optimiser such as SGD, RMSProp,Adadelta, Adagrad and Compare the perfromance of each optimisers."
   ]
  },
  {
   "cell_type": "code",
   "execution_count": null,
   "metadata": {},
   "outputs": [],
   "source": []
  },
  {
   "cell_type": "code",
   "execution_count": 30,
   "metadata": {},
   "outputs": [
    {
     "name": "stdout",
     "output_type": "stream",
     "text": [
      "Hooray! You've mastered training and testing ANNs for regression! 🎉 Now, onto classification! Is it gonna be a breeze or a wild rollercoaster? Let's dive in and find out! 🎢\n"
     ]
    }
   ],
   "source": [
    "print(\"Hooray! You've mastered training and testing ANNs for regression! 🎉 Now, onto classification! Is it gonna be a breeze or a wild rollercoaster? Let's dive in and find out! 🎢\")"
   ]
  },
  {
   "cell_type": "markdown",
   "metadata": {},
   "source": [
    "# Classificatoion Task\n",
    "\n",
    "Predicting a discrete category or class label based on input data.\n",
    "\n",
    "Build artificial neural network (ANN) model with four hidden layers. The hidden layers should have 128, 64, 32, and 16 neurons respectively, all using the ReLU activation function. The output layer should use a softmax activation function since it is a classification problem."
   ]
  },
  {
   "cell_type": "markdown",
   "metadata": {},
   "source": [
    "### What is MNIST Dataset\n",
    "\n",
    "The MNIST (Modified National Institute of Standards and Technology) dataset is a large collection of handwritten digits that is used to train image processing systems and machine learning models. The dataset is made up of two subsets: 60,000 images for training and 10,000 images for testing. Each image is a 28x28 pixel grayscale image with a value ranging from 0 to 255, where 0 is black and 255 is white. The images are also labeled with the corresponding numeral, which allows the dataset to be used in supervised learning to train classifiers. \n"
   ]
  },
  {
   "cell_type": "code",
   "execution_count": 31,
   "metadata": {},
   "outputs": [],
   "source": [
    "import tensorflow as tf\n",
    "from tensorflow.keras.models import Sequential\n",
    "from tensorflow.keras.layers import Dense, Flatten\n",
    "from tensorflow.keras.optimizers import Adam\n",
    "import matplotlib.pyplot as plt\n",
    "import numpy as np"
   ]
  },
  {
   "cell_type": "code",
   "execution_count": 32,
   "metadata": {},
   "outputs": [],
   "source": [
    "# Load the MNIST dataset\n",
    "(x_train, y_train), (x_test, y_test) = tf.keras.datasets.mnist.load_data()"
   ]
  },
  {
   "cell_type": "code",
   "execution_count": 33,
   "metadata": {},
   "outputs": [
    {
     "data": {
      "text/plain": [
       "((60000, 28, 28), (60000,), (10000, 28, 28), (10000,))"
      ]
     },
     "execution_count": 33,
     "metadata": {},
     "output_type": "execute_result"
    }
   ],
   "source": [
    "# print shape\n",
    "x_train.shape, y_train.shape, x_test.shape, y_test.shape"
   ]
  },
  {
   "cell_type": "code",
   "execution_count": 34,
   "metadata": {},
   "outputs": [
    {
     "data": {
      "image/png": "[encoded data removed]",
      "text/plain": [
       "<Figure size 1080x216 with 10 Axes>"
      ]
     },
     "metadata": {
      "needs_background": "light"
     },
     "output_type": "display_data"
    }
   ],
   "source": [
    "# Function to plot some images from the dataset\n",
    "def plot_samples(x, y, num_samples=10):\n",
    "    plt.figure(figsize=(15, 3))\n",
    "    for i in range(num_samples):\n",
    "        plt.subplot(1, num_samples, i+1)\n",
    "        plt.imshow(x[i], cmap='gray')\n",
    "        plt.title(f\"Label: {y[i]}\")\n",
    "        plt.axis('off')\n",
    "    plt.show()\n",
    "\n",
    "# Plot some samples from the training set\n",
    "plot_samples(x_train, y_train, num_samples=10)"
   ]
  },
  {
   "cell_type": "code",
   "execution_count": 58,
   "metadata": {
    "scrolled": true
   },
   "outputs": [
    {
     "data": {
      "text/plain": [
       "array([[[0., 0., 0., ..., 0., 0., 0.],\n",
       "        [0., 0., 0., ..., 0., 0., 0.],\n",
       "        [0., 0., 0., ..., 0., 0., 0.],\n",
       "        ...,\n",
       "        [0., 0., 0., ..., 0., 0., 0.],\n",
       "        [0., 0., 0., ..., 0., 0., 0.],\n",
       "        [0., 0., 0., ..., 0., 0., 0.]],\n",
       "\n",
       "       [[0., 0., 0., ..., 0., 0., 0.],\n",
       "        [0., 0., 0., ..., 0., 0., 0.],\n",
       "        [0., 0., 0., ..., 0., 0., 0.],\n",
       "        ...,\n",
       "        [0., 0., 0., ..., 0., 0., 0.],\n",
       "        [0., 0., 0., ..., 0., 0., 0.],\n",
       "        [0., 0., 0., ..., 0., 0., 0.]],\n",
       "\n",
       "       [[0., 0., 0., ..., 0., 0., 0.],\n",
       "        [0., 0., 0., ..., 0., 0., 0.],\n",
       "        [0., 0., 0., ..., 0., 0., 0.],\n",
       "        ...,\n",
       "        [0., 0., 0., ..., 0., 0., 0.],\n",
       "        [0., 0., 0., ..., 0., 0., 0.],\n",
       "        [0., 0., 0., ..., 0., 0., 0.]],\n",
       "\n",
       "       ...,\n",
       "\n",
       "       [[0., 0., 0., ..., 0., 0., 0.],\n",
       "        [0., 0., 0., ..., 0., 0., 0.],\n",
       "        [0., 0., 0., ..., 0., 0., 0.],\n",
       "        ...,\n",
       "        [0., 0., 0., ..., 0., 0., 0.],\n",
       "        [0., 0., 0., ..., 0., 0., 0.],\n",
       "        [0., 0., 0., ..., 0., 0., 0.]],\n",
       "\n",
       "       [[0., 0., 0., ..., 0., 0., 0.],\n",
       "        [0., 0., 0., ..., 0., 0., 0.],\n",
       "        [0., 0., 0., ..., 0., 0., 0.],\n",
       "        ...,\n",
       "        [0., 0., 0., ..., 0., 0., 0.],\n",
       "        [0., 0., 0., ..., 0., 0., 0.],\n",
       "        [0., 0., 0., ..., 0., 0., 0.]],\n",
       "\n",
       "       [[0., 0., 0., ..., 0., 0., 0.],\n",
       "        [0., 0., 0., ..., 0., 0., 0.],\n",
       "        [0., 0., 0., ..., 0., 0., 0.],\n",
       "        ...,\n",
       "        [0., 0., 0., ..., 0., 0., 0.],\n",
       "        [0., 0., 0., ..., 0., 0., 0.],\n",
       "        [0., 0., 0., ..., 0., 0., 0.]]], dtype=float32)"
      ]
     },
     "execution_count": 58,
     "metadata": {},
     "output_type": "execute_result"
    }
   ],
   "source": [
    "x_train"
   ]
  },
  {
   "cell_type": "code",
   "execution_count": 35,
   "metadata": {},
   "outputs": [
    {
     "data": {
      "text/plain": [
       "array([5, 0, 4, ..., 5, 6, 8], dtype=uint8)"
      ]
     },
     "execution_count": 35,
     "metadata": {},
     "output_type": "execute_result"
    }
   ],
   "source": [
    "y_train"
   ]
  },
  {
   "cell_type": "code",
   "execution_count": 36,
   "metadata": {},
   "outputs": [],
   "source": [
    "# Normalize the data\n",
    "x_train = x_train.astype('float32') / 255.0\n",
    "x_test = x_test.astype('float32') / 255.0"
   ]
  },
  {
   "cell_type": "code",
   "execution_count": 37,
   "metadata": {},
   "outputs": [],
   "source": [
    "# Build the MLP model\n",
    "model = Sequential([\n",
    "    Flatten(input_shape=(28, 28)),\n",
    "    Dense(128, activation='sigmoid'),\n",
    "    Dense(64, activation='relu'),\n",
    "    Dense(32, activation='sigmoid'),\n",
    "    Dense(16, activation='relu'),\n",
    "    Dense(10, activation='softmax')\n",
    "])"
   ]
  },
  {
   "cell_type": "code",
   "execution_count": 38,
   "metadata": {},
   "outputs": [
    {
     "name": "stdout",
     "output_type": "stream",
     "text": [
      "Model: \"sequential_2\"\n",
      "_________________________________________________________________\n",
      " Layer (type)                Output Shape              Param #   \n",
      "=================================================================\n",
      " flatten (Flatten)           (None, 784)               0         \n",
      "                                                                 \n",
      " dense_11 (Dense)            (None, 128)               100480    \n",
      "                                                                 \n",
      " dense_12 (Dense)            (None, 64)                8256      \n",
      "                                                                 \n",
      " dense_13 (Dense)            (None, 32)                2080      \n",
      "                                                                 \n",
      " dense_14 (Dense)            (None, 16)                528       \n",
      "                                                                 \n",
      " dense_15 (Dense)            (None, 10)                170       \n",
      "                                                                 \n",
      "=================================================================\n",
      "Total params: 111,514\n",
      "Trainable params: 111,514\n",
      "Non-trainable params: 0\n",
      "_________________________________________________________________\n"
     ]
    }
   ],
   "source": [
    "model.summary()"
   ]
  },
  {
   "cell_type": "code",
   "execution_count": 39,
   "metadata": {},
   "outputs": [],
   "source": [
    "# Compile the model\n",
    "model.compile(optimizer='adam',\n",
    "              loss='sparse_categorical_crossentropy',\n",
    "              metrics=['accuracy'])"
   ]
  },
  {
   "cell_type": "code",
   "execution_count": 40,
   "metadata": {
    "scrolled": true
   },
   "outputs": [
    {
     "name": "stdout",
     "output_type": "stream",
     "text": [
      "Epoch 1/20\n",
      "1500/1500 [==============================] - 7s 5ms/step - loss: 0.5771 - accuracy: 0.8390 - val_loss: 0.2352 - val_accuracy: 0.9336\n",
      "Epoch 2/20\n",
      "1500/1500 [==============================] - 6s 4ms/step - loss: 0.2020 - accuracy: 0.9422 - val_loss: 0.1677 - val_accuracy: 0.9524\n",
      "Epoch 3/20\n",
      "1500/1500 [==============================] - 5s 4ms/step - loss: 0.1377 - accuracy: 0.9599 - val_loss: 0.1403 - val_accuracy: 0.9588\n",
      "Epoch 4/20\n",
      "1500/1500 [==============================] - 5s 3ms/step - loss: 0.1039 - accuracy: 0.9697 - val_loss: 0.1206 - val_accuracy: 0.9647\n",
      "Epoch 5/20\n",
      "1500/1500 [==============================] - 5s 4ms/step - loss: 0.0826 - accuracy: 0.9746 - val_loss: 0.1212 - val_accuracy: 0.9646\n",
      "Epoch 6/20\n",
      "1500/1500 [==============================] - 6s 4ms/step - loss: 0.0656 - accuracy: 0.9803 - val_loss: 0.1123 - val_accuracy: 0.9688\n",
      "Epoch 7/20\n",
      "1500/1500 [==============================] - 6s 4ms/step - loss: 0.0535 - accuracy: 0.9837 - val_loss: 0.1255 - val_accuracy: 0.9640\n",
      "Epoch 8/20\n",
      "1500/1500 [==============================] - 5s 3ms/step - loss: 0.0443 - accuracy: 0.9867 - val_loss: 0.1035 - val_accuracy: 0.9721\n",
      "Epoch 9/20\n",
      "1500/1500 [==============================] - 5s 4ms/step - loss: 0.0371 - accuracy: 0.9881 - val_loss: 0.1140 - val_accuracy: 0.9707\n",
      "Epoch 10/20\n",
      "1500/1500 [==============================] - 5s 4ms/step - loss: 0.0308 - accuracy: 0.9905 - val_loss: 0.1245 - val_accuracy: 0.9698\n",
      "Epoch 11/20\n",
      "1500/1500 [==============================] - 5s 3ms/step - loss: 0.0259 - accuracy: 0.9919 - val_loss: 0.1127 - val_accuracy: 0.9729\n",
      "Epoch 12/20\n",
      "1500/1500 [==============================] - 5s 4ms/step - loss: 0.0238 - accuracy: 0.9926 - val_loss: 0.1180 - val_accuracy: 0.9718\n",
      "Epoch 13/20\n",
      "1500/1500 [==============================] - 5s 3ms/step - loss: 0.0189 - accuracy: 0.9941 - val_loss: 0.1184 - val_accuracy: 0.9726\n",
      "Epoch 14/20\n",
      "1500/1500 [==============================] - 5s 3ms/step - loss: 0.0177 - accuracy: 0.9942 - val_loss: 0.1321 - val_accuracy: 0.9721\n",
      "Epoch 15/20\n",
      "1500/1500 [==============================] - 5s 3ms/step - loss: 0.0153 - accuracy: 0.9950 - val_loss: 0.1359 - val_accuracy: 0.9712\n",
      "Epoch 16/20\n",
      "1500/1500 [==============================] - 5s 3ms/step - loss: 0.0155 - accuracy: 0.9947 - val_loss: 0.1248 - val_accuracy: 0.9737\n",
      "Epoch 17/20\n",
      "1500/1500 [==============================] - 5s 3ms/step - loss: 0.0145 - accuracy: 0.9955 - val_loss: 0.1275 - val_accuracy: 0.9724\n",
      "Epoch 18/20\n",
      "1500/1500 [==============================] - 5s 4ms/step - loss: 0.0105 - accuracy: 0.9966 - val_loss: 0.1486 - val_accuracy: 0.9704\n",
      "Epoch 19/20\n",
      "1500/1500 [==============================] - 4s 3ms/step - loss: 0.0123 - accuracy: 0.9961 - val_loss: 0.1380 - val_accuracy: 0.9728\n",
      "Epoch 20/20\n",
      "1500/1500 [==============================] - 5s 3ms/step - loss: 0.0096 - accuracy: 0.9968 - val_loss: 0.1442 - val_accuracy: 0.9728\n"
     ]
    }
   ],
   "source": [
    "# Train the model\n",
    "history = model.fit(x_train, y_train, epochs=20, batch_size=32, validation_split=0.2)"
   ]
  },
  {
   "cell_type": "code",
   "execution_count": 41,
   "metadata": {},
   "outputs": [
    {
     "name": "stdout",
     "output_type": "stream",
     "text": [
      "Boom! You've leveled up! Now you're not just training ANNs for regression, you're diving into classification with image data!\n"
     ]
    }
   ],
   "source": [
    "print(\"Boom! You've leveled up! Now you're not just training ANNs for regression, you're diving into classification with image data!\")"
   ]
  },
  {
   "cell_type": "markdown",
   "metadata": {},
   "source": [
    "## Performance"
   ]
  },
  {
   "cell_type": "code",
   "execution_count": 42,
   "metadata": {},
   "outputs": [],
   "source": [
    "from sklearn.metrics import classification_report, confusion_matrix,precision_score,recall_score,f1_score"
   ]
  },
  {
   "cell_type": "code",
   "execution_count": 43,
   "metadata": {},
   "outputs": [
    {
     "name": "stdout",
     "output_type": "stream",
     "text": [
      "313/313 [==============================] - 1s 3ms/step - loss: 0.1191 - accuracy: 0.9754\n",
      "Test accuracy: 0.9753999710083008\n"
     ]
    }
   ],
   "source": [
    "# Evaluate the model\n",
    "test_loss, test_accuracy = model.evaluate(x_test, y_test)\n",
    "print(f\"Test accuracy: {test_accuracy}\")"
   ]
  },
  {
   "cell_type": "code",
   "execution_count": 44,
   "metadata": {},
   "outputs": [
    {
     "name": "stdout",
     "output_type": "stream",
     "text": [
      "Classification Report:\n",
      "              precision    recall  f1-score   support\n",
      "\n",
      "           0       0.98      0.99      0.99       980\n",
      "           1       0.99      0.99      0.99      1135\n",
      "           2       0.97      0.98      0.97      1032\n",
      "           3       0.97      0.98      0.97      1010\n",
      "           4       0.97      0.98      0.98       982\n",
      "           5       0.98      0.95      0.96       892\n",
      "           6       0.98      0.97      0.98       958\n",
      "           7       0.99      0.96      0.98      1028\n",
      "           8       0.96      0.98      0.97       974\n",
      "           9       0.97      0.97      0.97      1009\n",
      "\n",
      "    accuracy                           0.98     10000\n",
      "   macro avg       0.98      0.97      0.98     10000\n",
      "weighted avg       0.98      0.98      0.98     10000\n",
      "\n"
     ]
    }
   ],
   "source": [
    "# Predict the classes\n",
    "y_pred = model.predict(x_test)\n",
    "y_pred_classes = np.argmax(y_pred,axis=1)\n",
    "\n",
    "# Generate the classification report\n",
    "print(\"Classification Report:\")\n",
    "print(classification_report(y_test, y_pred_classes))"
   ]
  },
  {
   "cell_type": "code",
   "execution_count": 45,
   "metadata": {},
   "outputs": [
    {
     "name": "stdout",
     "output_type": "stream",
     "text": [
      "Precision_Score:  0.9755009107977514\n",
      "Recall_Score:  0.9754\n",
      "F1_Score:  0.9753868402498244\n"
     ]
    }
   ],
   "source": [
    "print(\"Precision_Score: \",precision_score(y_test, y_pred_classes,average='weighted'))\n",
    "print(\"Recall_Score: \",recall_score(y_test, y_pred_classes,average='weighted'))\n",
    "print(\"F1_Score: \",f1_score(y_test, y_pred_classes,average='weighted'))"
   ]
  },
  {
   "cell_type": "code",
   "execution_count": 46,
   "metadata": {},
   "outputs": [
    {
     "data": {
      "image/png": "[encoded data removed]",
      "text/plain": [
       "<Figure size 720x576 with 2 Axes>"
      ]
     },
     "metadata": {
      "needs_background": "light"
     },
     "output_type": "display_data"
    }
   ],
   "source": [
    "# Generate the confusion matrix\n",
    "conf_matrix = confusion_matrix(y_test, y_pred_classes)\n",
    "\n",
    "# Plot the confusion matrix\n",
    "plt.figure(figsize=(10, 8))\n",
    "sns.heatmap(conf_matrix, annot=True, fmt='d', cmap='Blues', xticklabels=range(10), yticklabels=range(10))\n",
    "plt.xlabel('Predicted')\n",
    "plt.ylabel('True')\n",
    "plt.title('Confusion Matrix')\n",
    "plt.show()"
   ]
  },
  {
   "cell_type": "markdown",
   "metadata": {},
   "source": [
    "### Prediction"
   ]
  },
  {
   "cell_type": "code",
   "execution_count": 47,
   "metadata": {},
   "outputs": [
    {
     "data": {
      "image/png": "[encoded data removed]",
      "text/plain": [
       "<Figure size 1080x216 with 10 Axes>"
      ]
     },
     "metadata": {
      "needs_background": "light"
     },
     "output_type": "display_data"
    }
   ],
   "source": [
    "# Function to plot some images from the dataset along with their predictions\n",
    "def plot_samples_with_predictions(x, y_true, y_pred, num_samples=10):\n",
    "    plt.figure(figsize=(15, 3))\n",
    "    for i in range(num_samples):\n",
    "        plt.subplot(1, num_samples, i + 1)\n",
    "        plt.imshow(x[i], cmap='gray')\n",
    "        plt.title(f\"True: {y_true[i]}\\nPred: {y_pred[i]}\", color='green' if y_true[i] == y_pred[i] else 'red')\n",
    "        plt.axis('off')\n",
    "    plt.show()\n",
    "\n",
    "# Plot some samples from the test set with actual and predicted labels\n",
    "plot_samples_with_predictions(x_test, y_test, y_pred_classes, num_samples=10)"
   ]
  },
  {
   "cell_type": "code",
   "execution_count": 48,
   "metadata": {},
   "outputs": [
    {
     "name": "stdout",
     "output_type": "stream",
     "text": [
      "Uh-oh! Task 2 is waving at you! Time to give it a high-five and keep the fun rolling! 🖐️😄\n"
     ]
    }
   ],
   "source": [
    "print(\"Uh-oh! Task 2 is waving at you! Time to give it a high-five and keep the fun rolling! 🖐️😄\")"
   ]
  },
  {
   "cell_type": "markdown",
   "metadata": {},
   "source": [
    "## Task Model 2\n",
    "\n",
    "### Do it Yourself !!!!"
   ]
  },
  {
   "cell_type": "code",
   "execution_count": 74,
   "metadata": {},
   "outputs": [],
   "source": [
    "# Build the MLP model\n",
    "model = Sequential([\n",
    "    Flatten(input_shape=(28, 28)),\n",
    "    Dense(128, activation='sigmoid'),\n",
    "    Dense(64, activation='relu'),\n",
    "    Dense(32, activation='sigmoid'),\n",
    "    Dense(16, activation='relu'),\n",
    "    Dense(10, activation='softmax')\n",
    "])"
   ]
  },
  {
   "cell_type": "markdown",
   "metadata": {},
   "source": [
    "#### Update the model to include 5 hidden layers with 256, 128, 64, 32, and 16 neurons respectively. Incorporate regularization techniques like L2 regularization, dropout, or batch normalization. Experiment with various optimizers such as SGD or RMSprop and observe their impact on model performance with a batch size of 64."
   ]
  },
  {
   "cell_type": "code",
   "execution_count": null,
   "metadata": {},
   "outputs": [],
   "source": []
  },
  {
   "cell_type": "markdown",
   "metadata": {},
   "source": [
    "### ANS"
   ]
  },
  {
   "cell_type": "code",
   "execution_count": null,
   "metadata": {},
   "outputs": [],
   "source": []
  },
  {
   "cell_type": "code",
   "execution_count": 52,
   "metadata": {
    "scrolled": true
   },
   "outputs": [
    {
     "name": "stdout",
     "output_type": "stream",
     "text": [
      "Model: \"sequential_6\"\n",
      "_________________________________________________________________\n",
      " Layer (type)                Output Shape              Param #   \n",
      "=================================================================\n",
      " flatten_3 (Flatten)         (None, 784)               0         \n",
      "                                                                 \n",
      " dense_34 (Dense)            (None, 256)               200960    \n",
      "                                                                 \n",
      " batch_normalization_20 (Bat  (None, 256)              1024      \n",
      " chNormalization)                                                \n",
      "                                                                 \n",
      " dropout_20 (Dropout)        (None, 256)               0         \n",
      "                                                                 \n",
      " dense_35 (Dense)            (None, 128)               32896     \n",
      "                                                                 \n",
      " batch_normalization_21 (Bat  (None, 128)              512       \n",
      " chNormalization)                                                \n",
      "                                                                 \n",
      " dropout_21 (Dropout)        (None, 128)               0         \n",
      "                                                                 \n",
      " dense_36 (Dense)            (None, 64)                8256      \n",
      "                                                                 \n",
      " batch_normalization_22 (Bat  (None, 64)               256       \n",
      " chNormalization)                                                \n",
      "                                                                 \n",
      " dropout_22 (Dropout)        (None, 64)                0         \n",
      "                                                                 \n",
      " dense_37 (Dense)            (None, 32)                2080      \n",
      "                                                                 \n",
      " batch_normalization_23 (Bat  (None, 32)               128       \n",
      " chNormalization)                                                \n",
      "                                                                 \n",
      " dropout_23 (Dropout)        (None, 32)                0         \n",
      "                                                                 \n",
      " dense_38 (Dense)            (None, 16)                528       \n",
      "                                                                 \n",
      " batch_normalization_24 (Bat  (None, 16)               64        \n",
      " chNormalization)                                                \n",
      "                                                                 \n",
      " dropout_24 (Dropout)        (None, 16)                0         \n",
      "                                                                 \n",
      " dense_39 (Dense)            (None, 1)                 17        \n",
      "                                                                 \n",
      "=================================================================\n",
      "Total params: 246,721\n",
      "Trainable params: 245,729\n",
      "Non-trainable params: 992\n",
      "_________________________________________________________________\n"
     ]
    }
   ],
   "source": [
    "# Define the model with L2 regularization, dropout, and batch normalization\n",
    "def baseline_model2():\n",
    "    # Create model\n",
    "\n",
    "    model = Sequential()\n",
    "    \n",
    "    model.add(Flatten(input_shape=(28, 28)))  # Flatten layer for input data\n",
    "    model.add(Dense(256, input_dim=7, activation='relu', kernel_regularizer=l2(0.01)))  # Input layer with L2 regularization\n",
    "    model.add(BatchNormalization())\n",
    "    model.add(Dropout(0.5))\n",
    "\n",
    "    model.add(Dense(128, activation='relu', kernel_regularizer=l2(0.01)))  # Hidden layer 1 with L2 regularization\n",
    "    model.add(BatchNormalization())\n",
    "    model.add(Dropout(0.5))\n",
    "\n",
    "    model.add(Dense(64, activation='relu', kernel_regularizer=l2(0.01)))  # Hidden layer 2 with L2 regularization\n",
    "    model.add(BatchNormalization())\n",
    "    model.add(Dropout(0.5))\n",
    "\n",
    "    model.add(Dense(32, activation='relu', kernel_regularizer=l2(0.01)))  # Hidden layer 3 with L2 regularization\n",
    "    model.add(BatchNormalization())\n",
    "    model.add(Dropout(0.5))\n",
    "\n",
    "    model.add(Dense(16, activation='tanh', kernel_regularizer=l2(0.01)))  # Hidden layer 4 with L2 regularization\n",
    "    model.add(BatchNormalization())\n",
    "    model.add(Dropout(0.5))\n",
    "\n",
    "    model.add(Dense(1, activation='linear'))  # Output layer\n",
    "\n",
    "    # Compile model\n",
    "    model.compile(loss='mean_squared_error', optimizer='adam')\n",
    "    return model\n",
    "\n",
    "# Create the model\n",
    "model2 = baseline_model2()\n",
    "model2.summary()"
   ]
  },
  {
   "cell_type": "code",
   "execution_count": 55,
   "metadata": {},
   "outputs": [],
   "source": [
    "# Compile the model\n",
    "model2.compile(optimizer='adam',\n",
    "              loss='categorical_crossentropy',\n",
    "              metrics=['accuracy'])"
   ]
  },
  {
   "cell_type": "code",
   "execution_count": 57,
   "metadata": {},
   "outputs": [],
   "source": [
    "# Train the model\n",
    "history = model2.fit(x_train, y_train, epochs=20, batch_size=32, validation_split=0.2)"
   ]
  },
  {
   "cell_type": "code",
   "execution_count": null,
   "metadata": {},
   "outputs": [],
   "source": []
  }
 ],
 "metadata": {
  "kernelspec": {
   "display_name": "Python 3 (ipykernel)",
   "language": "python",
   "name": "python3"
  },
  "language_info": {
   "codemirror_mode": {
    "name": "ipython",
    "version": 3
   },
   "file_extension": ".py",
   "mimetype": "text/x-python",
   "name": "python",
   "nbconvert_exporter": "python",
   "pygments_lexer": "ipython3",
   "version": "3.11.9"
  }
 },
 "nbformat": 4,
 "nbformat_minor": 4
}
